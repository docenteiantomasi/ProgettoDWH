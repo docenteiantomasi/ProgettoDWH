{
 "cells": [
  {
   "cell_type": "code",
   "execution_count": 1,
   "metadata": {},
   "outputs": [],
   "source": [
    "import pandas as pd\n",
    "import numpy as np"
   ]
  },
  {
   "cell_type": "code",
   "execution_count": 2,
   "metadata": {},
   "outputs": [],
   "source": [
    "path = r\"C:\\Users\\ianto\\Desktop\\python\\file\""
   ]
  },
  {
   "cell_type": "markdown",
   "metadata": {},
   "source": [
    "# Importare dati da un file .csv"
   ]
  },
  {
   "cell_type": "code",
   "execution_count": 3,
   "metadata": {},
   "outputs": [],
   "source": [
    "clienti = pd.read_csv(filepath_or_buffer = path + r\"\\Clienti.csv\",\n",
    "            sep = \";\",  #separtore del file, la virgola è il default\n",
    "            header = 0, #per indicare quale riga contiene contiene l'intestazione, \n",
    "                      #0 vuol dire che l'intestazione è nella prima riga\n",
    "                      #se non c'è intestazione utilizzare None\n",
    "            #names = [\"NumeroCliente\",\"IsActive\",\"Nome\",\"Cognome\",\"DataNascita\"] \n",
    "            # se non avessi l'intestazione assegnerei i nome con l'attributo names          \n",
    "            usecols = [\"NumeroCliente\",\"Nome\",\"DataNascita\",\"Regione\"],  #colonne che vogliamo importare           \n",
    "            #dtype = {\"NumeroCliente\":np.str}, #tipi delle colonne\n",
    "            #parse_dates=[\"DataNascita\"], #colonne da importare come date\n",
    "            #dayfirst=True, #MOLTO IMPORTANTE, per indicare che nelle date il giorno è indicato prima del mese\n",
    "            #decimal=\".\", #separatore dei decimali, il default è il punto\n",
    "            #index_col = \"NumeroCliente\", #impostare una colonna come indice\n",
    "            #nrows = 10 #numero di righe da importare,\n",
    "            #skiprows = 0, #per saltare alcune righe all'inizio del file\n",
    "            )\n"
   ]
  },
  {
   "cell_type": "code",
   "execution_count": 4,
   "metadata": {},
   "outputs": [
    {
     "data": {
      "text/plain": [
       "'C:\\\\Users\\\\ianto\\\\Desktop\\\\python\\\\file\\\\Clienti.csv'"
      ]
     },
     "execution_count": 4,
     "metadata": {},
     "output_type": "execute_result"
    }
   ],
   "source": [
    "#NOTA INTERESSANTE: altro modo di comporre il percorso del file\n",
    "import os\n",
    "os.path.join(path,\"Clienti.csv\")"
   ]
  },
  {
   "cell_type": "code",
   "execution_count": 5,
   "metadata": {},
   "outputs": [
    {
     "data": {
      "text/html": [
       "<div>\n",
       "<style scoped>\n",
       "    .dataframe tbody tr th:only-of-type {\n",
       "        vertical-align: middle;\n",
       "    }\n",
       "\n",
       "    .dataframe tbody tr th {\n",
       "        vertical-align: top;\n",
       "    }\n",
       "\n",
       "    .dataframe thead th {\n",
       "        text-align: right;\n",
       "    }\n",
       "</style>\n",
       "<table border=\"1\" class=\"dataframe\">\n",
       "  <thead>\n",
       "    <tr style=\"text-align: right;\">\n",
       "      <th></th>\n",
       "      <th>NumeroCliente</th>\n",
       "      <th>Nome</th>\n",
       "      <th>DataNascita</th>\n",
       "      <th>Regione</th>\n",
       "    </tr>\n",
       "  </thead>\n",
       "  <tbody>\n",
       "    <tr>\n",
       "      <th>0</th>\n",
       "      <td>1</td>\n",
       "      <td>Nicoletta</td>\n",
       "      <td>01/01/2010</td>\n",
       "      <td>NaN</td>\n",
       "    </tr>\n",
       "    <tr>\n",
       "      <th>1</th>\n",
       "      <td>2</td>\n",
       "      <td>Giovanni</td>\n",
       "      <td>01/03/1976</td>\n",
       "      <td>Lazio</td>\n",
       "    </tr>\n",
       "    <tr>\n",
       "      <th>2</th>\n",
       "      <td>3</td>\n",
       "      <td>Marco</td>\n",
       "      <td>01/04/1980</td>\n",
       "      <td>Lazio</td>\n",
       "    </tr>\n",
       "    <tr>\n",
       "      <th>3</th>\n",
       "      <td>4</td>\n",
       "      <td>Giovanna</td>\n",
       "      <td>01/05/1977</td>\n",
       "      <td>Lazio</td>\n",
       "    </tr>\n",
       "    <tr>\n",
       "      <th>4</th>\n",
       "      <td>5</td>\n",
       "      <td>Alice</td>\n",
       "      <td>01/06/1969</td>\n",
       "      <td>Sicilia</td>\n",
       "    </tr>\n",
       "  </tbody>\n",
       "</table>\n",
       "</div>"
      ],
      "text/plain": [
       "   NumeroCliente       Nome DataNascita  Regione\n",
       "0              1  Nicoletta  01/01/2010      NaN\n",
       "1              2   Giovanni  01/03/1976    Lazio\n",
       "2              3      Marco  01/04/1980    Lazio\n",
       "3              4   Giovanna  01/05/1977    Lazio\n",
       "4              5      Alice  01/06/1969  Sicilia"
      ]
     },
     "execution_count": 5,
     "metadata": {},
     "output_type": "execute_result"
    }
   ],
   "source": [
    "clienti.head(5)"
   ]
  },
  {
   "cell_type": "code",
   "execution_count": 7,
   "metadata": {},
   "outputs": [],
   "source": [
    "#Per visualizzare tutte le righe e tutte le colonne\n",
    "pd.set_option('display.max_columns', None)\n",
    "pd.set_option('display.max_rows', None)"
   ]
  },
  {
   "cell_type": "markdown",
   "metadata": {},
   "source": [
    "## Ricavare informazioni sul dataframe "
   ]
  },
  {
   "cell_type": "code",
   "execution_count": 6,
   "metadata": {},
   "outputs": [
    {
     "data": {
      "text/plain": [
       "pandas.core.frame.DataFrame"
      ]
     },
     "execution_count": 6,
     "metadata": {},
     "output_type": "execute_result"
    }
   ],
   "source": [
    "type(clienti)"
   ]
  },
  {
   "cell_type": "code",
   "execution_count": 7,
   "metadata": {},
   "outputs": [
    {
     "data": {
      "text/plain": [
       "NumeroCliente     int64\n",
       "Nome             object\n",
       "DataNascita      object\n",
       "Regione          object\n",
       "dtype: object"
      ]
     },
     "execution_count": 7,
     "metadata": {},
     "output_type": "execute_result"
    }
   ],
   "source": [
    "clienti.dtypes"
   ]
  },
  {
   "cell_type": "code",
   "execution_count": 8,
   "metadata": {},
   "outputs": [
    {
     "name": "stdout",
     "output_type": "stream",
     "text": [
      "<class 'pandas.core.frame.DataFrame'>\n",
      "RangeIndex: 39 entries, 0 to 38\n",
      "Data columns (total 4 columns):\n",
      " #   Column         Non-Null Count  Dtype \n",
      "---  ------         --------------  ----- \n",
      " 0   NumeroCliente  39 non-null     int64 \n",
      " 1   Nome           39 non-null     object\n",
      " 2   DataNascita    39 non-null     object\n",
      " 3   Regione        38 non-null     object\n",
      "dtypes: int64(1), object(3)\n",
      "memory usage: 1.3+ KB\n"
     ]
    }
   ],
   "source": [
    "clienti.info()  "
   ]
  },
  {
   "cell_type": "code",
   "execution_count": 9,
   "metadata": {},
   "outputs": [
    {
     "data": {
      "text/plain": [
       "Index(['NumeroCliente', 'Nome', 'DataNascita', 'Regione'], dtype='object')"
      ]
     },
     "execution_count": 9,
     "metadata": {},
     "output_type": "execute_result"
    }
   ],
   "source": [
    "clienti.columns"
   ]
  },
  {
   "cell_type": "code",
   "execution_count": 10,
   "metadata": {},
   "outputs": [
    {
     "data": {
      "text/plain": [
       "(39, 4)"
      ]
     },
     "execution_count": 10,
     "metadata": {},
     "output_type": "execute_result"
    }
   ],
   "source": [
    "clienti.shape"
   ]
  },
  {
   "cell_type": "code",
   "execution_count": 11,
   "metadata": {},
   "outputs": [
    {
     "data": {
      "text/plain": [
       "RangeIndex(start=0, stop=39, step=1)"
      ]
     },
     "execution_count": 11,
     "metadata": {},
     "output_type": "execute_result"
    }
   ],
   "source": [
    "clienti.index"
   ]
  },
  {
   "cell_type": "markdown",
   "metadata": {},
   "source": [
    "## Perché i type sono importanti"
   ]
  },
  {
   "cell_type": "markdown",
   "metadata": {},
   "source": [
    "La prossima istruzione genera un errore perché il metodo year può essere applicato solo a colonne di tipo datetime "
   ]
  },
  {
   "cell_type": "code",
   "execution_count": null,
   "metadata": {},
   "outputs": [],
   "source": [
    "clienti[\"DataNascita\"].dt.year"
   ]
  },
  {
   "cell_type": "markdown",
   "metadata": {},
   "source": [
    "Occorre prima convertira la colonna nel tipo date"
   ]
  },
  {
   "cell_type": "code",
   "execution_count": 12,
   "metadata": {},
   "outputs": [],
   "source": [
    "clienti['DataNascita'] =  clienti['DataNascita'].astype(\"datetime64[ns]\")"
   ]
  },
  {
   "cell_type": "code",
   "execution_count": 14,
   "metadata": {},
   "outputs": [
    {
     "data": {
      "text/html": [
       "<div>\n",
       "<style scoped>\n",
       "    .dataframe tbody tr th:only-of-type {\n",
       "        vertical-align: middle;\n",
       "    }\n",
       "\n",
       "    .dataframe tbody tr th {\n",
       "        vertical-align: top;\n",
       "    }\n",
       "\n",
       "    .dataframe thead th {\n",
       "        text-align: right;\n",
       "    }\n",
       "</style>\n",
       "<table border=\"1\" class=\"dataframe\">\n",
       "  <thead>\n",
       "    <tr style=\"text-align: right;\">\n",
       "      <th></th>\n",
       "      <th>NumeroCliente</th>\n",
       "      <th>Nome</th>\n",
       "      <th>DataNascita</th>\n",
       "      <th>Regione</th>\n",
       "    </tr>\n",
       "  </thead>\n",
       "  <tbody>\n",
       "    <tr>\n",
       "      <th>0</th>\n",
       "      <td>1</td>\n",
       "      <td>Nicoletta</td>\n",
       "      <td>2010-01-01</td>\n",
       "      <td>NaN</td>\n",
       "    </tr>\n",
       "    <tr>\n",
       "      <th>1</th>\n",
       "      <td>2</td>\n",
       "      <td>Giovanni</td>\n",
       "      <td>1976-01-03</td>\n",
       "      <td>Lazio</td>\n",
       "    </tr>\n",
       "    <tr>\n",
       "      <th>2</th>\n",
       "      <td>3</td>\n",
       "      <td>Marco</td>\n",
       "      <td>1980-01-04</td>\n",
       "      <td>Lazio</td>\n",
       "    </tr>\n",
       "    <tr>\n",
       "      <th>3</th>\n",
       "      <td>4</td>\n",
       "      <td>Giovanna</td>\n",
       "      <td>1977-01-05</td>\n",
       "      <td>Lazio</td>\n",
       "    </tr>\n",
       "    <tr>\n",
       "      <th>4</th>\n",
       "      <td>5</td>\n",
       "      <td>Alice</td>\n",
       "      <td>1969-01-06</td>\n",
       "      <td>Sicilia</td>\n",
       "    </tr>\n",
       "  </tbody>\n",
       "</table>\n",
       "</div>"
      ],
      "text/plain": [
       "   NumeroCliente       Nome DataNascita  Regione\n",
       "0              1  Nicoletta  2010-01-01      NaN\n",
       "1              2   Giovanni  1976-01-03    Lazio\n",
       "2              3      Marco  1980-01-04    Lazio\n",
       "3              4   Giovanna  1977-01-05    Lazio\n",
       "4              5      Alice  1969-01-06  Sicilia"
      ]
     },
     "execution_count": 14,
     "metadata": {},
     "output_type": "execute_result"
    }
   ],
   "source": [
    "clienti.head(5)"
   ]
  },
  {
   "cell_type": "code",
   "execution_count": 15,
   "metadata": {},
   "outputs": [
    {
     "data": {
      "text/plain": [
       "NumeroCliente             int64\n",
       "Nome                     object\n",
       "DataNascita      datetime64[ns]\n",
       "Regione                  object\n",
       "dtype: object"
      ]
     },
     "execution_count": 15,
     "metadata": {},
     "output_type": "execute_result"
    }
   ],
   "source": [
    "clienti.dtypes"
   ]
  },
  {
   "cell_type": "code",
   "execution_count": 17,
   "metadata": {},
   "outputs": [
    {
     "data": {
      "text/plain": [
       "0    2010\n",
       "1    1976\n",
       "2    1980\n",
       "3    1977\n",
       "4    1969\n",
       "Name: DataNascita, dtype: int32"
      ]
     },
     "execution_count": 17,
     "metadata": {},
     "output_type": "execute_result"
    }
   ],
   "source": [
    "clienti[\"DataNascita\"].head(5).dt.year"
   ]
  },
  {
   "cell_type": "markdown",
   "metadata": {},
   "source": [
    "# Importare file da excel"
   ]
  },
  {
   "cell_type": "code",
   "execution_count": 18,
   "metadata": {},
   "outputs": [],
   "source": [
    "from_excel = pd.read_excel(io = path + r'/FattureDettaglio.xlsx',\n",
    "                          sheet_name = 'Tabelle1',\n",
    "                          usecols = 'A:D,F',\n",
    "                           header = 0\n",
    "                          )"
   ]
  },
  {
   "cell_type": "code",
   "execution_count": 19,
   "metadata": {},
   "outputs": [
    {
     "data": {
      "text/plain": [
       "pandas.core.frame.DataFrame"
      ]
     },
     "execution_count": 19,
     "metadata": {},
     "output_type": "execute_result"
    }
   ],
   "source": [
    "type(from_excel)"
   ]
  },
  {
   "cell_type": "code",
   "execution_count": 20,
   "metadata": {},
   "outputs": [
    {
     "data": {
      "text/html": [
       "<div>\n",
       "<style scoped>\n",
       "    .dataframe tbody tr th:only-of-type {\n",
       "        vertical-align: middle;\n",
       "    }\n",
       "\n",
       "    .dataframe tbody tr th {\n",
       "        vertical-align: top;\n",
       "    }\n",
       "\n",
       "    .dataframe thead th {\n",
       "        text-align: right;\n",
       "    }\n",
       "</style>\n",
       "<table border=\"1\" class=\"dataframe\">\n",
       "  <thead>\n",
       "    <tr style=\"text-align: right;\">\n",
       "      <th></th>\n",
       "      <th>IdFattura</th>\n",
       "      <th>IdProdotto</th>\n",
       "      <th>PrezzoUnitario</th>\n",
       "      <th>Quantita</th>\n",
       "      <th>Omaggio</th>\n",
       "    </tr>\n",
       "  </thead>\n",
       "  <tbody>\n",
       "    <tr>\n",
       "      <th>0</th>\n",
       "      <td>1</td>\n",
       "      <td>4</td>\n",
       "      <td>28.8</td>\n",
       "      <td>28</td>\n",
       "      <td>0.0</td>\n",
       "    </tr>\n",
       "    <tr>\n",
       "      <th>1</th>\n",
       "      <td>1</td>\n",
       "      <td>13</td>\n",
       "      <td>38.0</td>\n",
       "      <td>24</td>\n",
       "      <td>0.0</td>\n",
       "    </tr>\n",
       "    <tr>\n",
       "      <th>2</th>\n",
       "      <td>2</td>\n",
       "      <td>1</td>\n",
       "      <td>7.3</td>\n",
       "      <td>18</td>\n",
       "      <td>0.0</td>\n",
       "    </tr>\n",
       "    <tr>\n",
       "      <th>3</th>\n",
       "      <td>2</td>\n",
       "      <td>3</td>\n",
       "      <td>14.4</td>\n",
       "      <td>4</td>\n",
       "      <td>0.0</td>\n",
       "    </tr>\n",
       "    <tr>\n",
       "      <th>4</th>\n",
       "      <td>2</td>\n",
       "      <td>9</td>\n",
       "      <td>12.0</td>\n",
       "      <td>43</td>\n",
       "      <td>0.0</td>\n",
       "    </tr>\n",
       "  </tbody>\n",
       "</table>\n",
       "</div>"
      ],
      "text/plain": [
       "   IdFattura  IdProdotto  PrezzoUnitario  Quantita  Omaggio\n",
       "0          1           4            28.8        28      0.0\n",
       "1          1          13            38.0        24      0.0\n",
       "2          2           1             7.3        18      0.0\n",
       "3          2           3            14.4         4      0.0\n",
       "4          2           9            12.0        43      0.0"
      ]
     },
     "execution_count": 20,
     "metadata": {},
     "output_type": "execute_result"
    }
   ],
   "source": [
    "from_excel.head(5)"
   ]
  },
  {
   "cell_type": "code",
   "execution_count": 21,
   "metadata": {},
   "outputs": [
    {
     "name": "stdout",
     "output_type": "stream",
     "text": [
      "<class 'pandas.core.frame.DataFrame'>\n",
      "RangeIndex: 904 entries, 0 to 903\n",
      "Data columns (total 5 columns):\n",
      " #   Column          Non-Null Count  Dtype  \n",
      "---  ------          --------------  -----  \n",
      " 0   IdFattura       904 non-null    int64  \n",
      " 1   IdProdotto      904 non-null    int64  \n",
      " 2   PrezzoUnitario  904 non-null    float64\n",
      " 3   Quantita        904 non-null    int64  \n",
      " 4   Omaggio         903 non-null    float64\n",
      "dtypes: float64(2), int64(3)\n",
      "memory usage: 35.4 KB\n"
     ]
    }
   ],
   "source": [
    "from_excel.info()"
   ]
  },
  {
   "cell_type": "markdown",
   "metadata": {},
   "source": [
    "# Importare file JSON"
   ]
  },
  {
   "cell_type": "code",
   "execution_count": 22,
   "metadata": {},
   "outputs": [
    {
     "data": {
      "text/html": [
       "<div>\n",
       "<style scoped>\n",
       "    .dataframe tbody tr th:only-of-type {\n",
       "        vertical-align: middle;\n",
       "    }\n",
       "\n",
       "    .dataframe tbody tr th {\n",
       "        vertical-align: top;\n",
       "    }\n",
       "\n",
       "    .dataframe thead th {\n",
       "        text-align: right;\n",
       "    }\n",
       "</style>\n",
       "<table border=\"1\" class=\"dataframe\">\n",
       "  <thead>\n",
       "    <tr style=\"text-align: right;\">\n",
       "      <th></th>\n",
       "      <th>IdCliente</th>\n",
       "      <th>IsActive</th>\n",
       "      <th>Nome</th>\n",
       "      <th>Cognome</th>\n",
       "      <th>DataNascita</th>\n",
       "      <th>Nazione</th>\n",
       "      <th>Cap</th>\n",
       "      <th>Telefono</th>\n",
       "      <th>Email</th>\n",
       "      <th>Regione</th>\n",
       "      <th>Fax</th>\n",
       "    </tr>\n",
       "  </thead>\n",
       "  <tbody>\n",
       "    <tr>\n",
       "      <th>0</th>\n",
       "      <td>1</td>\n",
       "      <td>True</td>\n",
       "      <td>Nicola</td>\n",
       "      <td>5CF71</td>\n",
       "      <td>2010-01-01</td>\n",
       "      <td>Francia</td>\n",
       "      <td>81622</td>\n",
       "      <td>39 320 3231</td>\n",
       "      <td>Nicola.5CF71@gmail.com</td>\n",
       "      <td>NaN</td>\n",
       "      <td>NaN</td>\n",
       "    </tr>\n",
       "    <tr>\n",
       "      <th>1</th>\n",
       "      <td>2</td>\n",
       "      <td>True</td>\n",
       "      <td>Giovanni</td>\n",
       "      <td>A83C2</td>\n",
       "      <td>1976-03-01</td>\n",
       "      <td>Italia</td>\n",
       "      <td>82786</td>\n",
       "      <td>328 32312</td>\n",
       "      <td>Giovanni.A83C2tiscali.com</td>\n",
       "      <td>Lazio</td>\n",
       "      <td>328 32312</td>\n",
       "    </tr>\n",
       "    <tr>\n",
       "      <th>2</th>\n",
       "      <td>3</td>\n",
       "      <td>True</td>\n",
       "      <td>Marco</td>\n",
       "      <td>7929A</td>\n",
       "      <td>1980-04-01</td>\n",
       "      <td>Italia</td>\n",
       "      <td>19341</td>\n",
       "      <td>+(39) 327 38312</td>\n",
       "      <td>Marco.7929A@gmail.com</td>\n",
       "      <td>Lazio</td>\n",
       "      <td>+(39) 327 38312</td>\n",
       "    </tr>\n",
       "    <tr>\n",
       "      <th>3</th>\n",
       "      <td>4</td>\n",
       "      <td>True</td>\n",
       "      <td>Giovanna</td>\n",
       "      <td>270BC</td>\n",
       "      <td>1977-05-01</td>\n",
       "      <td>Italia</td>\n",
       "      <td>64791</td>\n",
       "      <td>39 320 22312</td>\n",
       "      <td>Giovanna.270BCtiscali.com</td>\n",
       "      <td>Lazio</td>\n",
       "      <td>NaN</td>\n",
       "    </tr>\n",
       "    <tr>\n",
       "      <th>4</th>\n",
       "      <td>5</td>\n",
       "      <td>True</td>\n",
       "      <td>Alice</td>\n",
       "      <td>C5B4D</td>\n",
       "      <td>1969-06-01</td>\n",
       "      <td>Italia</td>\n",
       "      <td>99172</td>\n",
       "      <td>320 7231</td>\n",
       "      <td>Alice.C5B4D@gmail.com</td>\n",
       "      <td>Sicilia</td>\n",
       "      <td>320 7231</td>\n",
       "    </tr>\n",
       "  </tbody>\n",
       "</table>\n",
       "</div>"
      ],
      "text/plain": [
       "   IdCliente  IsActive      Nome Cognome DataNascita  Nazione    Cap  \\\n",
       "0          1      True    Nicola   5CF71  2010-01-01  Francia  81622   \n",
       "1          2      True  Giovanni   A83C2  1976-03-01   Italia  82786   \n",
       "2          3      True     Marco   7929A  1980-04-01   Italia  19341   \n",
       "3          4      True  Giovanna   270BC  1977-05-01   Italia  64791   \n",
       "4          5      True     Alice   C5B4D  1969-06-01   Italia  99172   \n",
       "\n",
       "          Telefono                      Email  Regione              Fax  \n",
       "0      39 320 3231     Nicola.5CF71@gmail.com      NaN              NaN  \n",
       "1        328 32312  Giovanni.A83C2tiscali.com    Lazio        328 32312  \n",
       "2  +(39) 327 38312      Marco.7929A@gmail.com    Lazio  +(39) 327 38312  \n",
       "3     39 320 22312  Giovanna.270BCtiscali.com    Lazio              NaN  \n",
       "4         320 7231      Alice.C5B4D@gmail.com  Sicilia         320 7231  "
      ]
     },
     "execution_count": 22,
     "metadata": {},
     "output_type": "execute_result"
    }
   ],
   "source": [
    "clienti_j = pd.read_json(path_or_buf = path + \"/Clienti.json\")\n",
    "clienti_j.head(5)"
   ]
  },
  {
   "cell_type": "code",
   "execution_count": 23,
   "metadata": {},
   "outputs": [
    {
     "data": {
      "text/html": [
       "<div>\n",
       "<style scoped>\n",
       "    .dataframe tbody tr th:only-of-type {\n",
       "        vertical-align: middle;\n",
       "    }\n",
       "\n",
       "    .dataframe tbody tr th {\n",
       "        vertical-align: top;\n",
       "    }\n",
       "\n",
       "    .dataframe thead th {\n",
       "        text-align: right;\n",
       "    }\n",
       "</style>\n",
       "<table border=\"1\" class=\"dataframe\">\n",
       "  <thead>\n",
       "    <tr style=\"text-align: right;\">\n",
       "      <th></th>\n",
       "      <th>Cognome</th>\n",
       "      <th>DataNascita</th>\n",
       "      <th>IdCliente</th>\n",
       "      <th>IsActive</th>\n",
       "      <th>Residenza</th>\n",
       "      <th>Contatti</th>\n",
       "      <th>Nome</th>\n",
       "    </tr>\n",
       "  </thead>\n",
       "  <tbody>\n",
       "    <tr>\n",
       "      <th>0</th>\n",
       "      <td>Rossi</td>\n",
       "      <td>1972-05-01</td>\n",
       "      <td>40</td>\n",
       "      <td>true</td>\n",
       "      <td>{'Nazione': 'Italia', 'Regione': 'Molise'}</td>\n",
       "      <td>[39 320 3231, 39 320 1123]</td>\n",
       "      <td>NaN</td>\n",
       "    </tr>\n",
       "    <tr>\n",
       "      <th>1</th>\n",
       "      <td>NaN</td>\n",
       "      <td>1980-05-01</td>\n",
       "      <td>41</td>\n",
       "      <td>true</td>\n",
       "      <td>{'Nazione': 'Italia', 'Regione': 'Lombardia'}</td>\n",
       "      <td>[39 320 3199, 39 320 8833]</td>\n",
       "      <td>Nicola</td>\n",
       "    </tr>\n",
       "  </tbody>\n",
       "</table>\n",
       "</div>"
      ],
      "text/plain": [
       "  Cognome DataNascita  IdCliente IsActive  \\\n",
       "0   Rossi  1972-05-01         40     true   \n",
       "1     NaN  1980-05-01         41     true   \n",
       "\n",
       "                                       Residenza                    Contatti  \\\n",
       "0     {'Nazione': 'Italia', 'Regione': 'Molise'}  [39 320 3231, 39 320 1123]   \n",
       "1  {'Nazione': 'Italia', 'Regione': 'Lombardia'}  [39 320 3199, 39 320 8833]   \n",
       "\n",
       "     Nome  \n",
       "0     NaN  \n",
       "1  Nicola  "
      ]
     },
     "execution_count": 23,
     "metadata": {},
     "output_type": "execute_result"
    }
   ],
   "source": [
    "clienti2_j = pd.read_json(path_or_buf = path + \"/Clienti2.json\")\n",
    "clienti2_j.head(5)"
   ]
  },
  {
   "cell_type": "code",
   "execution_count": 24,
   "metadata": {},
   "outputs": [
    {
     "data": {
      "text/plain": [
       "Cognome        object\n",
       "DataNascita    object\n",
       "IdCliente       int64\n",
       "IsActive       object\n",
       "Residenza      object\n",
       "Contatti       object\n",
       "Nome           object\n",
       "dtype: object"
      ]
     },
     "execution_count": 24,
     "metadata": {},
     "output_type": "execute_result"
    }
   ],
   "source": [
    "clienti2_j.dtypes"
   ]
  },
  {
   "cell_type": "code",
   "execution_count": 25,
   "metadata": {},
   "outputs": [],
   "source": [
    "import json\n",
    "\n",
    "with open(path + \"/Clienti2.json\", \"r\") as f:\n",
    "    data_json = json.load(f)\n",
    "clienti2_j = pd.json_normalize(data_json)"
   ]
  },
  {
   "cell_type": "code",
   "execution_count": 26,
   "metadata": {},
   "outputs": [
    {
     "data": {
      "text/html": [
       "<div>\n",
       "<style scoped>\n",
       "    .dataframe tbody tr th:only-of-type {\n",
       "        vertical-align: middle;\n",
       "    }\n",
       "\n",
       "    .dataframe tbody tr th {\n",
       "        vertical-align: top;\n",
       "    }\n",
       "\n",
       "    .dataframe thead th {\n",
       "        text-align: right;\n",
       "    }\n",
       "</style>\n",
       "<table border=\"1\" class=\"dataframe\">\n",
       "  <thead>\n",
       "    <tr style=\"text-align: right;\">\n",
       "      <th></th>\n",
       "      <th>Cognome</th>\n",
       "      <th>DataNascita</th>\n",
       "      <th>IdCliente</th>\n",
       "      <th>IsActive</th>\n",
       "      <th>Contatti</th>\n",
       "      <th>Residenza.Nazione</th>\n",
       "      <th>Residenza.Regione</th>\n",
       "      <th>Nome</th>\n",
       "    </tr>\n",
       "  </thead>\n",
       "  <tbody>\n",
       "    <tr>\n",
       "      <th>0</th>\n",
       "      <td>Rossi</td>\n",
       "      <td>1972-05-01</td>\n",
       "      <td>40</td>\n",
       "      <td>true</td>\n",
       "      <td>[39 320 3231, 39 320 1123]</td>\n",
       "      <td>Italia</td>\n",
       "      <td>Molise</td>\n",
       "      <td>NaN</td>\n",
       "    </tr>\n",
       "    <tr>\n",
       "      <th>1</th>\n",
       "      <td>NaN</td>\n",
       "      <td>1980-05-01</td>\n",
       "      <td>41</td>\n",
       "      <td>true</td>\n",
       "      <td>[39 320 3199, 39 320 8833]</td>\n",
       "      <td>Italia</td>\n",
       "      <td>Lombardia</td>\n",
       "      <td>Nicola</td>\n",
       "    </tr>\n",
       "  </tbody>\n",
       "</table>\n",
       "</div>"
      ],
      "text/plain": [
       "  Cognome DataNascita  IdCliente IsActive                    Contatti  \\\n",
       "0   Rossi  1972-05-01         40     true  [39 320 3231, 39 320 1123]   \n",
       "1     NaN  1980-05-01         41     true  [39 320 3199, 39 320 8833]   \n",
       "\n",
       "  Residenza.Nazione Residenza.Regione    Nome  \n",
       "0            Italia            Molise     NaN  \n",
       "1            Italia         Lombardia  Nicola  "
      ]
     },
     "execution_count": 26,
     "metadata": {},
     "output_type": "execute_result"
    }
   ],
   "source": [
    "clienti2_j.head(5)"
   ]
  },
  {
   "cell_type": "markdown",
   "metadata": {},
   "source": [
    "OSSERVAZIONE: con Python potremmo anche lavorare direttamente data_json di tipo lista di dizionari"
   ]
  },
  {
   "cell_type": "code",
   "execution_count": 27,
   "metadata": {},
   "outputs": [
    {
     "data": {
      "text/plain": [
       "[{'Cognome': 'Rossi',\n",
       "  'DataNascita': '1972-05-01',\n",
       "  'IdCliente': 40,\n",
       "  'IsActive': 'true',\n",
       "  'Residenza': {'Nazione': 'Italia', 'Regione': 'Molise'},\n",
       "  'Contatti': ['39 320 3231', '39 320 1123']},\n",
       " {'Nome': 'Nicola',\n",
       "  'DataNascita': '1980-05-01',\n",
       "  'IdCliente': 41,\n",
       "  'IsActive': 'true',\n",
       "  'Residenza': {'Nazione': 'Italia', 'Regione': 'Lombardia'},\n",
       "  'Contatti': ['39 320 3199', '39 320 8833']}]"
      ]
     },
     "execution_count": 27,
     "metadata": {},
     "output_type": "execute_result"
    }
   ],
   "source": [
    "data_json"
   ]
  },
  {
   "cell_type": "code",
   "execution_count": 28,
   "metadata": {},
   "outputs": [
    {
     "data": {
      "text/plain": [
       "dict"
      ]
     },
     "execution_count": 28,
     "metadata": {},
     "output_type": "execute_result"
    }
   ],
   "source": [
    "type(data_json[0])"
   ]
  },
  {
   "cell_type": "markdown",
   "metadata": {},
   "source": [
    "# Importiamo un altro file csv più complesso"
   ]
  },
  {
   "cell_type": "code",
   "execution_count": 29,
   "metadata": {},
   "outputs": [],
   "source": [
    "fatture = pd.read_csv(filepath_or_buffer = path + '/Fatture.csv',\n",
    "            sep = \";\",  #separtore del file\n",
    "            header = None,\n",
    "            names = [\"NumeroFattura\",\"Tipologia\",\"Importo\",\"Iva\",\"IdCliente\",\"ResidenzaCliente\",\"DataFattura\",\"NumeroFornitore\"],\n",
    "            decimal = \",\"\n",
    "            )"
   ]
  },
  {
   "cell_type": "code",
   "execution_count": 30,
   "metadata": {},
   "outputs": [
    {
     "name": "stdout",
     "output_type": "stream",
     "text": [
      "<class 'pandas.core.frame.DataFrame'>\n",
      "RangeIndex: 18 entries, 0 to 17\n",
      "Data columns (total 8 columns):\n",
      " #   Column            Non-Null Count  Dtype  \n",
      "---  ------            --------------  -----  \n",
      " 0   NumeroFattura     18 non-null     int64  \n",
      " 1   Tipologia         18 non-null     object \n",
      " 2   Importo           18 non-null     float64\n",
      " 3   Iva               17 non-null     float64\n",
      " 4   IdCliente         18 non-null     int64  \n",
      " 5   ResidenzaCliente  18 non-null     object \n",
      " 6   DataFattura       18 non-null     object \n",
      " 7   NumeroFornitore   16 non-null     float64\n",
      "dtypes: float64(3), int64(2), object(3)\n",
      "memory usage: 1.3+ KB\n"
     ]
    }
   ],
   "source": [
    "fatture.info()"
   ]
  },
  {
   "cell_type": "markdown",
   "metadata": {},
   "source": [
    "Creiamo una nuova colonna DataFattura2 convertendo DataFattura con il metodo astype"
   ]
  },
  {
   "cell_type": "code",
   "execution_count": 31,
   "metadata": {
    "scrolled": true
   },
   "outputs": [],
   "source": [
    "fatture['DataFattura2'] =  fatture['DataFattura'].astype(\"datetime64[ns]\")"
   ]
  },
  {
   "cell_type": "markdown",
   "metadata": {},
   "source": [
    "La conversione è errata, la data 01/03/2017 è diventata 2017-01-03"
   ]
  },
  {
   "cell_type": "code",
   "execution_count": 32,
   "metadata": {},
   "outputs": [
    {
     "data": {
      "text/html": [
       "<div>\n",
       "<style scoped>\n",
       "    .dataframe tbody tr th:only-of-type {\n",
       "        vertical-align: middle;\n",
       "    }\n",
       "\n",
       "    .dataframe tbody tr th {\n",
       "        vertical-align: top;\n",
       "    }\n",
       "\n",
       "    .dataframe thead th {\n",
       "        text-align: right;\n",
       "    }\n",
       "</style>\n",
       "<table border=\"1\" class=\"dataframe\">\n",
       "  <thead>\n",
       "    <tr style=\"text-align: right;\">\n",
       "      <th></th>\n",
       "      <th>NumeroFattura</th>\n",
       "      <th>Tipologia</th>\n",
       "      <th>Importo</th>\n",
       "      <th>Iva</th>\n",
       "      <th>IdCliente</th>\n",
       "      <th>ResidenzaCliente</th>\n",
       "      <th>DataFattura</th>\n",
       "      <th>NumeroFornitore</th>\n",
       "      <th>DataFattura2</th>\n",
       "    </tr>\n",
       "  </thead>\n",
       "  <tbody>\n",
       "    <tr>\n",
       "      <th>0</th>\n",
       "      <td>1</td>\n",
       "      <td>A</td>\n",
       "      <td>1120.0</td>\n",
       "      <td>20.0</td>\n",
       "      <td>1</td>\n",
       "      <td>Molise</td>\n",
       "      <td>01/01/2018</td>\n",
       "      <td>1.0</td>\n",
       "      <td>2018-01-01</td>\n",
       "    </tr>\n",
       "    <tr>\n",
       "      <th>1</th>\n",
       "      <td>2</td>\n",
       "      <td>V</td>\n",
       "      <td>32.0</td>\n",
       "      <td>20.0</td>\n",
       "      <td>2</td>\n",
       "      <td>Puglia</td>\n",
       "      <td>01/03/2017</td>\n",
       "      <td>1.0</td>\n",
       "      <td>2017-01-03</td>\n",
       "    </tr>\n",
       "    <tr>\n",
       "      <th>2</th>\n",
       "      <td>3</td>\n",
       "      <td>A</td>\n",
       "      <td>45.0</td>\n",
       "      <td>20.0</td>\n",
       "      <td>3</td>\n",
       "      <td>Lombardia</td>\n",
       "      <td>01/06/2017</td>\n",
       "      <td>1.0</td>\n",
       "      <td>2017-01-06</td>\n",
       "    </tr>\n",
       "    <tr>\n",
       "      <th>3</th>\n",
       "      <td>4</td>\n",
       "      <td>V</td>\n",
       "      <td>64.0</td>\n",
       "      <td>20.0</td>\n",
       "      <td>3</td>\n",
       "      <td>Lombardia</td>\n",
       "      <td>30/01/2019</td>\n",
       "      <td>1.0</td>\n",
       "      <td>2019-01-30</td>\n",
       "    </tr>\n",
       "    <tr>\n",
       "      <th>4</th>\n",
       "      <td>5</td>\n",
       "      <td>A</td>\n",
       "      <td>12.0</td>\n",
       "      <td>20.0</td>\n",
       "      <td>5</td>\n",
       "      <td>Umbria</td>\n",
       "      <td>01/01/2018</td>\n",
       "      <td>1.0</td>\n",
       "      <td>2018-01-01</td>\n",
       "    </tr>\n",
       "  </tbody>\n",
       "</table>\n",
       "</div>"
      ],
      "text/plain": [
       "   NumeroFattura Tipologia  Importo   Iva  IdCliente ResidenzaCliente  \\\n",
       "0              1         A   1120.0  20.0          1           Molise   \n",
       "1              2         V     32.0  20.0          2           Puglia   \n",
       "2              3         A     45.0  20.0          3        Lombardia   \n",
       "3              4         V     64.0  20.0          3        Lombardia   \n",
       "4              5         A     12.0  20.0          5           Umbria   \n",
       "\n",
       "  DataFattura  NumeroFornitore DataFattura2  \n",
       "0  01/01/2018              1.0   2018-01-01  \n",
       "1  01/03/2017              1.0   2017-01-03  \n",
       "2  01/06/2017              1.0   2017-01-06  \n",
       "3  30/01/2019              1.0   2019-01-30  \n",
       "4  01/01/2018              1.0   2018-01-01  "
      ]
     },
     "execution_count": 32,
     "metadata": {},
     "output_type": "execute_result"
    }
   ],
   "source": [
    "fatture.head(5)"
   ]
  },
  {
   "cell_type": "markdown",
   "metadata": {},
   "source": [
    "Dobbiamo specificare il formato di partenza tramite l'argomento format del metodo di pandas to_datetime"
   ]
  },
  {
   "cell_type": "code",
   "execution_count": 33,
   "metadata": {},
   "outputs": [],
   "source": [
    "fatture['DataFattura2'] =  pd.to_datetime(fatture['DataFattura'],\n",
    "                                format=\"%d/%m/%Y\",\n",
    "                                )"
   ]
  },
  {
   "cell_type": "code",
   "execution_count": null,
   "metadata": {},
   "outputs": [],
   "source": [
    "fatture.head(5)"
   ]
  },
  {
   "cell_type": "markdown",
   "metadata": {},
   "source": [
    "ATTENZIONE! Il prossimo blocco di codice importa le date in modo errato"
   ]
  },
  {
   "cell_type": "code",
   "execution_count": null,
   "metadata": {},
   "outputs": [],
   "source": [
    "fatture2 = pd.read_csv(filepath_or_buffer = path + '/Fatture.csv',\n",
    "            sep = \";\",  #separtore del file\n",
    "            header = None,\n",
    "            names = [\"NumeroFattura\",\"Tipologia\",\"Importo\",\"Iva\",\"IdCliente\",\"ResidenzaCliente\",\"DataFattura\",\"NumeroFornitore\"],\n",
    "            decimal = \",\",\n",
    "            parse_dates = [\"DataFattura\"]\n",
    "            )\n",
    "fatture2"
   ]
  },
  {
   "cell_type": "markdown",
   "metadata": {},
   "source": [
    "La prossima conversione fallisce perché non posso convertire in int64 una colonna che contiene dei null"
   ]
  },
  {
   "cell_type": "code",
   "execution_count": null,
   "metadata": {},
   "outputs": [],
   "source": [
    "fatture['NumeroFornitore'] = fatture['NumeroFornitore'].astype('int64')"
   ]
  },
  {
   "cell_type": "markdown",
   "metadata": {},
   "source": [
    "Per acquisire i null come intero devo usare il tipo Int64"
   ]
  },
  {
   "cell_type": "code",
   "execution_count": 34,
   "metadata": {},
   "outputs": [],
   "source": [
    "fatture['NumeroFornitore'] = fatture['NumeroFornitore'].astype('Int64')"
   ]
  },
  {
   "cell_type": "markdown",
   "metadata": {},
   "source": [
    "Oppure sostituire prima i null con un altro valore"
   ]
  },
  {
   "cell_type": "code",
   "execution_count": 35,
   "metadata": {},
   "outputs": [],
   "source": [
    "fatture['Iva'] = fatture['Iva'].fillna(0).astype(np.int64)"
   ]
  },
  {
   "cell_type": "code",
   "execution_count": 36,
   "metadata": {},
   "outputs": [
    {
     "name": "stdout",
     "output_type": "stream",
     "text": [
      "<class 'pandas.core.frame.DataFrame'>\n",
      "RangeIndex: 18 entries, 0 to 17\n",
      "Data columns (total 9 columns):\n",
      " #   Column            Non-Null Count  Dtype         \n",
      "---  ------            --------------  -----         \n",
      " 0   NumeroFattura     18 non-null     int64         \n",
      " 1   Tipologia         18 non-null     object        \n",
      " 2   Importo           18 non-null     float64       \n",
      " 3   Iva               18 non-null     int64         \n",
      " 4   IdCliente         18 non-null     int64         \n",
      " 5   ResidenzaCliente  18 non-null     object        \n",
      " 6   DataFattura       18 non-null     object        \n",
      " 7   NumeroFornitore   16 non-null     Int64         \n",
      " 8   DataFattura2      18 non-null     datetime64[ns]\n",
      "dtypes: Int64(1), datetime64[ns](1), float64(1), int64(3), object(3)\n",
      "memory usage: 1.4+ KB\n"
     ]
    }
   ],
   "source": [
    "fatture.info()"
   ]
  },
  {
   "cell_type": "markdown",
   "metadata": {},
   "source": [
    "## Attenzione alla conversione in stringa"
   ]
  },
  {
   "cell_type": "code",
   "execution_count": 37,
   "metadata": {},
   "outputs": [],
   "source": [
    "fatture2 = fatture.copy()"
   ]
  },
  {
   "cell_type": "code",
   "execution_count": 38,
   "metadata": {},
   "outputs": [
    {
     "name": "stdout",
     "output_type": "stream",
     "text": [
      "<class 'pandas.core.frame.DataFrame'>\n",
      "RangeIndex: 18 entries, 0 to 17\n",
      "Data columns (total 9 columns):\n",
      " #   Column            Non-Null Count  Dtype         \n",
      "---  ------            --------------  -----         \n",
      " 0   NumeroFattura     18 non-null     int64         \n",
      " 1   Tipologia         18 non-null     object        \n",
      " 2   Importo           18 non-null     float64       \n",
      " 3   Iva               18 non-null     int64         \n",
      " 4   IdCliente         18 non-null     int64         \n",
      " 5   ResidenzaCliente  18 non-null     object        \n",
      " 6   DataFattura       18 non-null     object        \n",
      " 7   NumeroFornitore   16 non-null     Int64         \n",
      " 8   DataFattura2      18 non-null     datetime64[ns]\n",
      "dtypes: Int64(1), datetime64[ns](1), float64(1), int64(3), object(3)\n",
      "memory usage: 1.4+ KB\n"
     ]
    }
   ],
   "source": [
    "fatture2.info()"
   ]
  },
  {
   "cell_type": "code",
   "execution_count": 39,
   "metadata": {},
   "outputs": [
    {
     "data": {
      "text/html": [
       "<div>\n",
       "<style scoped>\n",
       "    .dataframe tbody tr th:only-of-type {\n",
       "        vertical-align: middle;\n",
       "    }\n",
       "\n",
       "    .dataframe tbody tr th {\n",
       "        vertical-align: top;\n",
       "    }\n",
       "\n",
       "    .dataframe thead th {\n",
       "        text-align: right;\n",
       "    }\n",
       "</style>\n",
       "<table border=\"1\" class=\"dataframe\">\n",
       "  <thead>\n",
       "    <tr style=\"text-align: right;\">\n",
       "      <th></th>\n",
       "      <th>NumeroFattura</th>\n",
       "      <th>Tipologia</th>\n",
       "      <th>Importo</th>\n",
       "      <th>Iva</th>\n",
       "      <th>IdCliente</th>\n",
       "      <th>ResidenzaCliente</th>\n",
       "      <th>DataFattura</th>\n",
       "      <th>NumeroFornitore</th>\n",
       "      <th>DataFattura2</th>\n",
       "    </tr>\n",
       "  </thead>\n",
       "  <tbody>\n",
       "    <tr>\n",
       "      <th>0</th>\n",
       "      <td>1</td>\n",
       "      <td>A</td>\n",
       "      <td>1120.0</td>\n",
       "      <td>20</td>\n",
       "      <td>1</td>\n",
       "      <td>Molise</td>\n",
       "      <td>01/01/2018</td>\n",
       "      <td>1</td>\n",
       "      <td>2018-01-01</td>\n",
       "    </tr>\n",
       "    <tr>\n",
       "      <th>1</th>\n",
       "      <td>2</td>\n",
       "      <td>V</td>\n",
       "      <td>32.0</td>\n",
       "      <td>20</td>\n",
       "      <td>2</td>\n",
       "      <td>Puglia</td>\n",
       "      <td>01/03/2017</td>\n",
       "      <td>1</td>\n",
       "      <td>2017-03-01</td>\n",
       "    </tr>\n",
       "    <tr>\n",
       "      <th>2</th>\n",
       "      <td>3</td>\n",
       "      <td>A</td>\n",
       "      <td>45.0</td>\n",
       "      <td>20</td>\n",
       "      <td>3</td>\n",
       "      <td>Lombardia</td>\n",
       "      <td>01/06/2017</td>\n",
       "      <td>1</td>\n",
       "      <td>2017-06-01</td>\n",
       "    </tr>\n",
       "    <tr>\n",
       "      <th>3</th>\n",
       "      <td>4</td>\n",
       "      <td>V</td>\n",
       "      <td>64.0</td>\n",
       "      <td>20</td>\n",
       "      <td>3</td>\n",
       "      <td>Lombardia</td>\n",
       "      <td>30/01/2019</td>\n",
       "      <td>1</td>\n",
       "      <td>2019-01-30</td>\n",
       "    </tr>\n",
       "    <tr>\n",
       "      <th>4</th>\n",
       "      <td>5</td>\n",
       "      <td>A</td>\n",
       "      <td>12.0</td>\n",
       "      <td>20</td>\n",
       "      <td>5</td>\n",
       "      <td>Umbria</td>\n",
       "      <td>01/01/2018</td>\n",
       "      <td>1</td>\n",
       "      <td>2018-01-01</td>\n",
       "    </tr>\n",
       "  </tbody>\n",
       "</table>\n",
       "</div>"
      ],
      "text/plain": [
       "   NumeroFattura Tipologia  Importo  Iva  IdCliente ResidenzaCliente  \\\n",
       "0              1         A   1120.0   20          1           Molise   \n",
       "1              2         V     32.0   20          2           Puglia   \n",
       "2              3         A     45.0   20          3        Lombardia   \n",
       "3              4         V     64.0   20          3        Lombardia   \n",
       "4              5         A     12.0   20          5           Umbria   \n",
       "\n",
       "  DataFattura  NumeroFornitore DataFattura2  \n",
       "0  01/01/2018                1   2018-01-01  \n",
       "1  01/03/2017                1   2017-03-01  \n",
       "2  01/06/2017                1   2017-06-01  \n",
       "3  30/01/2019                1   2019-01-30  \n",
       "4  01/01/2018                1   2018-01-01  "
      ]
     },
     "execution_count": 39,
     "metadata": {},
     "output_type": "execute_result"
    }
   ],
   "source": [
    "fatture2.head(5)"
   ]
  },
  {
   "cell_type": "code",
   "execution_count": 40,
   "metadata": {},
   "outputs": [],
   "source": [
    "fatture2['NumeroFornitore'] = fatture2['NumeroFornitore'].astype('str')"
   ]
  },
  {
   "cell_type": "code",
   "execution_count": 41,
   "metadata": {},
   "outputs": [
    {
     "name": "stdout",
     "output_type": "stream",
     "text": [
      "<class 'pandas.core.frame.DataFrame'>\n",
      "RangeIndex: 18 entries, 0 to 17\n",
      "Data columns (total 9 columns):\n",
      " #   Column            Non-Null Count  Dtype         \n",
      "---  ------            --------------  -----         \n",
      " 0   NumeroFattura     18 non-null     int64         \n",
      " 1   Tipologia         18 non-null     object        \n",
      " 2   Importo           18 non-null     float64       \n",
      " 3   Iva               18 non-null     int64         \n",
      " 4   IdCliente         18 non-null     int64         \n",
      " 5   ResidenzaCliente  18 non-null     object        \n",
      " 6   DataFattura       18 non-null     object        \n",
      " 7   NumeroFornitore   18 non-null     object        \n",
      " 8   DataFattura2      18 non-null     datetime64[ns]\n",
      "dtypes: datetime64[ns](1), float64(1), int64(3), object(4)\n",
      "memory usage: 1.4+ KB\n"
     ]
    }
   ],
   "source": [
    "fatture2.info()"
   ]
  },
  {
   "cell_type": "markdown",
   "metadata": {},
   "source": [
    "Il null è diventato una stringa "
   ]
  },
  {
   "cell_type": "code",
   "execution_count": 42,
   "metadata": {},
   "outputs": [
    {
     "data": {
      "text/html": [
       "<div>\n",
       "<style scoped>\n",
       "    .dataframe tbody tr th:only-of-type {\n",
       "        vertical-align: middle;\n",
       "    }\n",
       "\n",
       "    .dataframe tbody tr th {\n",
       "        vertical-align: top;\n",
       "    }\n",
       "\n",
       "    .dataframe thead th {\n",
       "        text-align: right;\n",
       "    }\n",
       "</style>\n",
       "<table border=\"1\" class=\"dataframe\">\n",
       "  <thead>\n",
       "    <tr style=\"text-align: right;\">\n",
       "      <th></th>\n",
       "      <th>NumeroFattura</th>\n",
       "      <th>Tipologia</th>\n",
       "      <th>Importo</th>\n",
       "      <th>Iva</th>\n",
       "      <th>IdCliente</th>\n",
       "      <th>ResidenzaCliente</th>\n",
       "      <th>DataFattura</th>\n",
       "      <th>NumeroFornitore</th>\n",
       "      <th>DataFattura2</th>\n",
       "    </tr>\n",
       "  </thead>\n",
       "  <tbody>\n",
       "    <tr>\n",
       "      <th>0</th>\n",
       "      <td>1</td>\n",
       "      <td>A</td>\n",
       "      <td>1120.0</td>\n",
       "      <td>20</td>\n",
       "      <td>1</td>\n",
       "      <td>Molise</td>\n",
       "      <td>01/01/2018</td>\n",
       "      <td>1</td>\n",
       "      <td>2018-01-01</td>\n",
       "    </tr>\n",
       "    <tr>\n",
       "      <th>1</th>\n",
       "      <td>2</td>\n",
       "      <td>V</td>\n",
       "      <td>32.0</td>\n",
       "      <td>20</td>\n",
       "      <td>2</td>\n",
       "      <td>Puglia</td>\n",
       "      <td>01/03/2017</td>\n",
       "      <td>1</td>\n",
       "      <td>2017-03-01</td>\n",
       "    </tr>\n",
       "    <tr>\n",
       "      <th>2</th>\n",
       "      <td>3</td>\n",
       "      <td>A</td>\n",
       "      <td>45.0</td>\n",
       "      <td>20</td>\n",
       "      <td>3</td>\n",
       "      <td>Lombardia</td>\n",
       "      <td>01/06/2017</td>\n",
       "      <td>1</td>\n",
       "      <td>2017-06-01</td>\n",
       "    </tr>\n",
       "    <tr>\n",
       "      <th>3</th>\n",
       "      <td>4</td>\n",
       "      <td>V</td>\n",
       "      <td>64.0</td>\n",
       "      <td>20</td>\n",
       "      <td>3</td>\n",
       "      <td>Lombardia</td>\n",
       "      <td>30/01/2019</td>\n",
       "      <td>1</td>\n",
       "      <td>2019-01-30</td>\n",
       "    </tr>\n",
       "    <tr>\n",
       "      <th>4</th>\n",
       "      <td>5</td>\n",
       "      <td>A</td>\n",
       "      <td>12.0</td>\n",
       "      <td>20</td>\n",
       "      <td>5</td>\n",
       "      <td>Umbria</td>\n",
       "      <td>01/01/2018</td>\n",
       "      <td>1</td>\n",
       "      <td>2018-01-01</td>\n",
       "    </tr>\n",
       "  </tbody>\n",
       "</table>\n",
       "</div>"
      ],
      "text/plain": [
       "   NumeroFattura Tipologia  Importo  Iva  IdCliente ResidenzaCliente  \\\n",
       "0              1         A   1120.0   20          1           Molise   \n",
       "1              2         V     32.0   20          2           Puglia   \n",
       "2              3         A     45.0   20          3        Lombardia   \n",
       "3              4         V     64.0   20          3        Lombardia   \n",
       "4              5         A     12.0   20          5           Umbria   \n",
       "\n",
       "  DataFattura NumeroFornitore DataFattura2  \n",
       "0  01/01/2018               1   2018-01-01  \n",
       "1  01/03/2017               1   2017-03-01  \n",
       "2  01/06/2017               1   2017-06-01  \n",
       "3  30/01/2019               1   2019-01-30  \n",
       "4  01/01/2018               1   2018-01-01  "
      ]
     },
     "execution_count": 42,
     "metadata": {},
     "output_type": "execute_result"
    }
   ],
   "source": [
    "fatture2.head(5)"
   ]
  },
  {
   "cell_type": "markdown",
   "metadata": {},
   "source": [
    "Riconverto la stringa in null. Facciamo comunque sempre dei test perché su Pandas potrei varie tipologie di null"
   ]
  },
  {
   "cell_type": "code",
   "execution_count": 43,
   "metadata": {},
   "outputs": [],
   "source": [
    "fatture2['NumeroFornitore'] = fatture2['NumeroFornitore'].astype('str').replace('<NA>',  pd.NA)"
   ]
  },
  {
   "cell_type": "code",
   "execution_count": 44,
   "metadata": {},
   "outputs": [
    {
     "name": "stdout",
     "output_type": "stream",
     "text": [
      "<class 'pandas.core.frame.DataFrame'>\n",
      "RangeIndex: 18 entries, 0 to 17\n",
      "Data columns (total 9 columns):\n",
      " #   Column            Non-Null Count  Dtype         \n",
      "---  ------            --------------  -----         \n",
      " 0   NumeroFattura     18 non-null     int64         \n",
      " 1   Tipologia         18 non-null     object        \n",
      " 2   Importo           18 non-null     float64       \n",
      " 3   Iva               18 non-null     int64         \n",
      " 4   IdCliente         18 non-null     int64         \n",
      " 5   ResidenzaCliente  18 non-null     object        \n",
      " 6   DataFattura       18 non-null     object        \n",
      " 7   NumeroFornitore   16 non-null     object        \n",
      " 8   DataFattura2      18 non-null     datetime64[ns]\n",
      "dtypes: datetime64[ns](1), float64(1), int64(3), object(4)\n",
      "memory usage: 1.4+ KB\n"
     ]
    }
   ],
   "source": [
    "fatture2.info()"
   ]
  },
  {
   "cell_type": "code",
   "execution_count": 45,
   "metadata": {},
   "outputs": [
    {
     "data": {
      "text/html": [
       "<div>\n",
       "<style scoped>\n",
       "    .dataframe tbody tr th:only-of-type {\n",
       "        vertical-align: middle;\n",
       "    }\n",
       "\n",
       "    .dataframe tbody tr th {\n",
       "        vertical-align: top;\n",
       "    }\n",
       "\n",
       "    .dataframe thead th {\n",
       "        text-align: right;\n",
       "    }\n",
       "</style>\n",
       "<table border=\"1\" class=\"dataframe\">\n",
       "  <thead>\n",
       "    <tr style=\"text-align: right;\">\n",
       "      <th></th>\n",
       "      <th>NumeroFattura</th>\n",
       "      <th>Tipologia</th>\n",
       "      <th>Importo</th>\n",
       "      <th>Iva</th>\n",
       "      <th>IdCliente</th>\n",
       "      <th>ResidenzaCliente</th>\n",
       "      <th>DataFattura</th>\n",
       "      <th>NumeroFornitore</th>\n",
       "      <th>DataFattura2</th>\n",
       "    </tr>\n",
       "  </thead>\n",
       "  <tbody>\n",
       "    <tr>\n",
       "      <th>0</th>\n",
       "      <td>1</td>\n",
       "      <td>A</td>\n",
       "      <td>1120.0</td>\n",
       "      <td>20</td>\n",
       "      <td>1</td>\n",
       "      <td>Molise</td>\n",
       "      <td>01/01/2018</td>\n",
       "      <td>1</td>\n",
       "      <td>2018-01-01</td>\n",
       "    </tr>\n",
       "    <tr>\n",
       "      <th>1</th>\n",
       "      <td>2</td>\n",
       "      <td>V</td>\n",
       "      <td>32.0</td>\n",
       "      <td>20</td>\n",
       "      <td>2</td>\n",
       "      <td>Puglia</td>\n",
       "      <td>01/03/2017</td>\n",
       "      <td>1</td>\n",
       "      <td>2017-03-01</td>\n",
       "    </tr>\n",
       "    <tr>\n",
       "      <th>2</th>\n",
       "      <td>3</td>\n",
       "      <td>A</td>\n",
       "      <td>45.0</td>\n",
       "      <td>20</td>\n",
       "      <td>3</td>\n",
       "      <td>Lombardia</td>\n",
       "      <td>01/06/2017</td>\n",
       "      <td>1</td>\n",
       "      <td>2017-06-01</td>\n",
       "    </tr>\n",
       "    <tr>\n",
       "      <th>3</th>\n",
       "      <td>4</td>\n",
       "      <td>V</td>\n",
       "      <td>64.0</td>\n",
       "      <td>20</td>\n",
       "      <td>3</td>\n",
       "      <td>Lombardia</td>\n",
       "      <td>30/01/2019</td>\n",
       "      <td>1</td>\n",
       "      <td>2019-01-30</td>\n",
       "    </tr>\n",
       "    <tr>\n",
       "      <th>4</th>\n",
       "      <td>5</td>\n",
       "      <td>A</td>\n",
       "      <td>12.0</td>\n",
       "      <td>20</td>\n",
       "      <td>5</td>\n",
       "      <td>Umbria</td>\n",
       "      <td>01/01/2018</td>\n",
       "      <td>1</td>\n",
       "      <td>2018-01-01</td>\n",
       "    </tr>\n",
       "  </tbody>\n",
       "</table>\n",
       "</div>"
      ],
      "text/plain": [
       "   NumeroFattura Tipologia  Importo  Iva  IdCliente ResidenzaCliente  \\\n",
       "0              1         A   1120.0   20          1           Molise   \n",
       "1              2         V     32.0   20          2           Puglia   \n",
       "2              3         A     45.0   20          3        Lombardia   \n",
       "3              4         V     64.0   20          3        Lombardia   \n",
       "4              5         A     12.0   20          5           Umbria   \n",
       "\n",
       "  DataFattura NumeroFornitore DataFattura2  \n",
       "0  01/01/2018               1   2018-01-01  \n",
       "1  01/03/2017               1   2017-03-01  \n",
       "2  01/06/2017               1   2017-06-01  \n",
       "3  30/01/2019               1   2019-01-30  \n",
       "4  01/01/2018               1   2018-01-01  "
      ]
     },
     "execution_count": 45,
     "metadata": {},
     "output_type": "execute_result"
    }
   ],
   "source": [
    "fatture2.head(5)"
   ]
  },
  {
   "cell_type": "markdown",
   "metadata": {},
   "source": [
    "## Attenzione a non dimenticare .copy()"
   ]
  },
  {
   "cell_type": "code",
   "execution_count": 46,
   "metadata": {},
   "outputs": [],
   "source": [
    "fatture_new = fatture\n",
    "fatture_new[\"NumeroFattura\"]=1"
   ]
  },
  {
   "cell_type": "code",
   "execution_count": 47,
   "metadata": {},
   "outputs": [
    {
     "data": {
      "text/html": [
       "<div>\n",
       "<style scoped>\n",
       "    .dataframe tbody tr th:only-of-type {\n",
       "        vertical-align: middle;\n",
       "    }\n",
       "\n",
       "    .dataframe tbody tr th {\n",
       "        vertical-align: top;\n",
       "    }\n",
       "\n",
       "    .dataframe thead th {\n",
       "        text-align: right;\n",
       "    }\n",
       "</style>\n",
       "<table border=\"1\" class=\"dataframe\">\n",
       "  <thead>\n",
       "    <tr style=\"text-align: right;\">\n",
       "      <th></th>\n",
       "      <th>NumeroFattura</th>\n",
       "      <th>Tipologia</th>\n",
       "      <th>Importo</th>\n",
       "      <th>Iva</th>\n",
       "      <th>IdCliente</th>\n",
       "      <th>ResidenzaCliente</th>\n",
       "      <th>DataFattura</th>\n",
       "      <th>NumeroFornitore</th>\n",
       "      <th>DataFattura2</th>\n",
       "    </tr>\n",
       "  </thead>\n",
       "  <tbody>\n",
       "    <tr>\n",
       "      <th>0</th>\n",
       "      <td>1</td>\n",
       "      <td>A</td>\n",
       "      <td>1120.0</td>\n",
       "      <td>20</td>\n",
       "      <td>1</td>\n",
       "      <td>Molise</td>\n",
       "      <td>01/01/2018</td>\n",
       "      <td>1</td>\n",
       "      <td>2018-01-01</td>\n",
       "    </tr>\n",
       "  </tbody>\n",
       "</table>\n",
       "</div>"
      ],
      "text/plain": [
       "   NumeroFattura Tipologia  Importo  Iva  IdCliente ResidenzaCliente  \\\n",
       "0              1         A   1120.0   20          1           Molise   \n",
       "\n",
       "  DataFattura  NumeroFornitore DataFattura2  \n",
       "0  01/01/2018                1   2018-01-01  "
      ]
     },
     "execution_count": 47,
     "metadata": {},
     "output_type": "execute_result"
    }
   ],
   "source": [
    "fatture_new.head(1)"
   ]
  },
  {
   "cell_type": "markdown",
   "metadata": {},
   "source": [
    "Anche la colonna NumeroFattura del dataframe fatture è stata modificata!"
   ]
  },
  {
   "cell_type": "code",
   "execution_count": 49,
   "metadata": {
    "scrolled": true
   },
   "outputs": [
    {
     "data": {
      "text/html": [
       "<div>\n",
       "<style scoped>\n",
       "    .dataframe tbody tr th:only-of-type {\n",
       "        vertical-align: middle;\n",
       "    }\n",
       "\n",
       "    .dataframe tbody tr th {\n",
       "        vertical-align: top;\n",
       "    }\n",
       "\n",
       "    .dataframe thead th {\n",
       "        text-align: right;\n",
       "    }\n",
       "</style>\n",
       "<table border=\"1\" class=\"dataframe\">\n",
       "  <thead>\n",
       "    <tr style=\"text-align: right;\">\n",
       "      <th></th>\n",
       "      <th>NumeroFattura</th>\n",
       "      <th>Tipologia</th>\n",
       "      <th>Importo</th>\n",
       "      <th>Iva</th>\n",
       "      <th>IdCliente</th>\n",
       "      <th>ResidenzaCliente</th>\n",
       "      <th>DataFattura</th>\n",
       "      <th>NumeroFornitore</th>\n",
       "      <th>DataFattura2</th>\n",
       "    </tr>\n",
       "  </thead>\n",
       "  <tbody>\n",
       "    <tr>\n",
       "      <th>0</th>\n",
       "      <td>1</td>\n",
       "      <td>A</td>\n",
       "      <td>1120.0</td>\n",
       "      <td>20</td>\n",
       "      <td>1</td>\n",
       "      <td>Molise</td>\n",
       "      <td>01/01/2018</td>\n",
       "      <td>1</td>\n",
       "      <td>2018-01-01</td>\n",
       "    </tr>\n",
       "  </tbody>\n",
       "</table>\n",
       "</div>"
      ],
      "text/plain": [
       "   NumeroFattura Tipologia  Importo  Iva  IdCliente ResidenzaCliente  \\\n",
       "0              1         A   1120.0   20          1           Molise   \n",
       "\n",
       "  DataFattura  NumeroFornitore DataFattura2  \n",
       "0  01/01/2018                1   2018-01-01  "
      ]
     },
     "execution_count": 49,
     "metadata": {},
     "output_type": "execute_result"
    }
   ],
   "source": [
    "fatture.head(1)"
   ]
  },
  {
   "cell_type": "markdown",
   "metadata": {},
   "source": [
    "# Esercizio 1: Import da un file di testo strutturato"
   ]
  },
  {
   "cell_type": "markdown",
   "metadata": {},
   "source": [
    "Apriamo il file e salviamo il suo contenuto nella stringa testo. Supponiamo di voler creare un DataFrame contenente l'AccessId e la sequenza"
   ]
  },
  {
   "cell_type": "code",
   "execution_count": 50,
   "metadata": {},
   "outputs": [],
   "source": [
    "with open(path + \"/file_input_fasta.txt\", \"r\") as f:\n",
    "    testo = f.read()"
   ]
  },
  {
   "cell_type": "code",
   "execution_count": 51,
   "metadata": {},
   "outputs": [],
   "source": [
    "#OSSERVAZIONE: il codice precedente è equivalente a\n",
    "f = open(path + \"/file_input_fasta.txt\", \"r\")\n",
    "testo = f.read()\n",
    "f.close()"
   ]
  },
  {
   "cell_type": "code",
   "execution_count": 52,
   "metadata": {},
   "outputs": [
    {
     "data": {
      "text/plain": [
       "'>MG581699.1 Lepiota psalion voucher WU 5152\\nTAAGCATATCAATAAGCGGAGGAAAAGAAACTAACAAGGATTCCCCCTAGTAACTGCGAGTGAAGCGGGA\\n\\n>NR_119449.1 Lepiota scaberula UC 1860006 ITS region\\nGTGAACCTGCGGAAGGATCATTATTGAATAATCTTGGTTGGTTGTAGCTGGCTCTTCGGAGTATGTGCAC\\n'"
      ]
     },
     "execution_count": 52,
     "metadata": {},
     "output_type": "execute_result"
    }
   ],
   "source": [
    "testo"
   ]
  },
  {
   "cell_type": "code",
   "execution_count": 53,
   "metadata": {},
   "outputs": [
    {
     "data": {
      "text/plain": [
       "str"
      ]
     },
     "execution_count": 53,
     "metadata": {},
     "output_type": "execute_result"
    }
   ],
   "source": [
    "type(testo)"
   ]
  },
  {
   "cell_type": "markdown",
   "metadata": {},
   "source": [
    "Osserviamo che il carattere > indica l'inizio di una nuova riga. Dividiamo il testo in una lista di più elementi utilizzando il carattere > come separatore"
   ]
  },
  {
   "cell_type": "code",
   "execution_count": 54,
   "metadata": {},
   "outputs": [],
   "source": [
    "lista = testo.split(\">\")"
   ]
  },
  {
   "cell_type": "code",
   "execution_count": 55,
   "metadata": {},
   "outputs": [
    {
     "data": {
      "text/plain": [
       "list"
      ]
     },
     "execution_count": 55,
     "metadata": {},
     "output_type": "execute_result"
    }
   ],
   "source": [
    "type(lista)"
   ]
  },
  {
   "cell_type": "code",
   "execution_count": 56,
   "metadata": {},
   "outputs": [
    {
     "data": {
      "text/plain": [
       "['',\n",
       " 'MG581699.1 Lepiota psalion voucher WU 5152\\nTAAGCATATCAATAAGCGGAGGAAAAGAAACTAACAAGGATTCCCCCTAGTAACTGCGAGTGAAGCGGGA\\n\\n',\n",
       " 'NR_119449.1 Lepiota scaberula UC 1860006 ITS region\\nGTGAACCTGCGGAAGGATCATTATTGAATAATCTTGGTTGGTTGTAGCTGGCTCTTCGGAGTATGTGCAC\\n']"
      ]
     },
     "execution_count": 56,
     "metadata": {},
     "output_type": "execute_result"
    }
   ],
   "source": [
    "lista"
   ]
  },
  {
   "cell_type": "markdown",
   "metadata": {},
   "source": [
    "accediamo ai singoli elementi della lista"
   ]
  },
  {
   "cell_type": "code",
   "execution_count": 57,
   "metadata": {},
   "outputs": [
    {
     "data": {
      "text/plain": [
       "''"
      ]
     },
     "execution_count": 57,
     "metadata": {},
     "output_type": "execute_result"
    }
   ],
   "source": [
    "lista[0]"
   ]
  },
  {
   "cell_type": "code",
   "execution_count": 58,
   "metadata": {},
   "outputs": [
    {
     "data": {
      "text/plain": [
       "'MG581699.1 Lepiota psalion voucher WU 5152\\nTAAGCATATCAATAAGCGGAGGAAAAGAAACTAACAAGGATTCCCCCTAGTAACTGCGAGTGAAGCGGGA\\n\\n'"
      ]
     },
     "execution_count": 58,
     "metadata": {},
     "output_type": "execute_result"
    }
   ],
   "source": [
    "lista[1]"
   ]
  },
  {
   "cell_type": "code",
   "execution_count": 59,
   "metadata": {},
   "outputs": [
    {
     "data": {
      "text/plain": [
       "'NR_119449.1 Lepiota scaberula UC 1860006 ITS region\\nGTGAACCTGCGGAAGGATCATTATTGAATAATCTTGGTTGGTTGTAGCTGGCTCTTCGGAGTATGTGCAC\\n'"
      ]
     },
     "execution_count": 59,
     "metadata": {},
     "output_type": "execute_result"
    }
   ],
   "source": [
    "lista[2]"
   ]
  },
  {
   "cell_type": "markdown",
   "metadata": {},
   "source": [
    "Cicliamo sugli elementi della lista"
   ]
  },
  {
   "cell_type": "code",
   "execution_count": 60,
   "metadata": {},
   "outputs": [
    {
     "name": "stdout",
     "output_type": "stream",
     "text": [
      "\n",
      "MG581699.1 Lepiota psalion voucher WU 5152\n",
      "TAAGCATATCAATAAGCGGAGGAAAAGAAACTAACAAGGATTCCCCCTAGTAACTGCGAGTGAAGCGGGA\n",
      "\n",
      "\n",
      "NR_119449.1 Lepiota scaberula UC 1860006 ITS region\n",
      "GTGAACCTGCGGAAGGATCATTATTGAATAATCTTGGTTGGTTGTAGCTGGCTCTTCGGAGTATGTGCAC\n",
      "\n"
     ]
    }
   ],
   "source": [
    "for el in lista:\n",
    "    print(el)"
   ]
  },
  {
   "cell_type": "code",
   "execution_count": 61,
   "metadata": {},
   "outputs": [
    {
     "name": "stdout",
     "output_type": "stream",
     "text": [
      "\n",
      "MG581699.1 Lepiota psalion voucher WU 5152\n",
      "TAAGCATATCAATAAGCGGAGGAAAAGAAACTAACAAGGATTCCCCCTAGTAACTGCGAGTGAAGCGGGA\n",
      "\n",
      "\n",
      "NR_119449.1 Lepiota scaberula UC 1860006 ITS region\n",
      "GTGAACCTGCGGAAGGATCATTATTGAATAATCTTGGTTGGTTGTAGCTGGCTCTTCGGAGTATGTGCAC\n",
      "\n"
     ]
    }
   ],
   "source": [
    "#OSSERVAZIONE: il codice precedente è equivalente a\n",
    "for i in range(len(lista)):\n",
    "    print(lista[i])"
   ]
  },
  {
   "cell_type": "markdown",
   "metadata": {},
   "source": [
    "Eliminiamo il primo elemento della lista"
   ]
  },
  {
   "cell_type": "code",
   "execution_count": 62,
   "metadata": {},
   "outputs": [
    {
     "data": {
      "text/plain": [
       "''"
      ]
     },
     "execution_count": 62,
     "metadata": {},
     "output_type": "execute_result"
    }
   ],
   "source": [
    "lista.pop(0)"
   ]
  },
  {
   "cell_type": "code",
   "execution_count": 63,
   "metadata": {},
   "outputs": [
    {
     "data": {
      "text/plain": [
       "['MG581699.1 Lepiota psalion voucher WU 5152\\nTAAGCATATCAATAAGCGGAGGAAAAGAAACTAACAAGGATTCCCCCTAGTAACTGCGAGTGAAGCGGGA\\n\\n',\n",
       " 'NR_119449.1 Lepiota scaberula UC 1860006 ITS region\\nGTGAACCTGCGGAAGGATCATTATTGAATAATCTTGGTTGGTTGTAGCTGGCTCTTCGGAGTATGTGCAC\\n']"
      ]
     },
     "execution_count": 63,
     "metadata": {},
     "output_type": "execute_result"
    }
   ],
   "source": [
    "lista"
   ]
  },
  {
   "cell_type": "markdown",
   "metadata": {},
   "source": [
    "Per il momento concentriamoci sul primo elemento della lista. Cerchiamo di recuperare l'AccessId"
   ]
  },
  {
   "cell_type": "code",
   "execution_count": 64,
   "metadata": {},
   "outputs": [
    {
     "data": {
      "text/plain": [
       "['MG581699.1 Lepiota psalion voucher WU 5152',\n",
       " 'TAAGCATATCAATAAGCGGAGGAAAAGAAACTAACAAGGATTCCCCCTAGTAACTGCGAGTGAAGCGGGA',\n",
       " '',\n",
       " '']"
      ]
     },
     "execution_count": 64,
     "metadata": {},
     "output_type": "execute_result"
    }
   ],
   "source": [
    "lista[0].split(\"\\n\")"
   ]
  },
  {
   "cell_type": "code",
   "execution_count": 65,
   "metadata": {},
   "outputs": [
    {
     "data": {
      "text/plain": [
       "'MG581699.1 Lepiota psalion voucher WU 5152'"
      ]
     },
     "execution_count": 65,
     "metadata": {},
     "output_type": "execute_result"
    }
   ],
   "source": [
    "lista[0].split(\"\\n\")[0]"
   ]
  },
  {
   "cell_type": "code",
   "execution_count": 66,
   "metadata": {},
   "outputs": [
    {
     "data": {
      "text/plain": [
       "['MG581699.1', 'Lepiota', 'psalion', 'voucher', 'WU', '5152']"
      ]
     },
     "execution_count": 66,
     "metadata": {},
     "output_type": "execute_result"
    }
   ],
   "source": [
    "lista[0].split(\"\\n\")[0].split(\" \")"
   ]
  },
  {
   "cell_type": "code",
   "execution_count": 67,
   "metadata": {},
   "outputs": [
    {
     "data": {
      "text/plain": [
       "'MG581699.1'"
      ]
     },
     "execution_count": 67,
     "metadata": {},
     "output_type": "execute_result"
    }
   ],
   "source": [
    "lista[0].split(\"\\n\")[0].split(\" \")[0]"
   ]
  },
  {
   "cell_type": "markdown",
   "metadata": {},
   "source": [
    "Analogamente recuperiamo la sequenza"
   ]
  },
  {
   "cell_type": "code",
   "execution_count": 68,
   "metadata": {},
   "outputs": [
    {
     "data": {
      "text/plain": [
       "'TAAGCATATCAATAAGCGGAGGAAAAGAAACTAACAAGGATTCCCCCTAGTAACTGCGAGTGAAGCGGGA'"
      ]
     },
     "execution_count": 68,
     "metadata": {},
     "output_type": "execute_result"
    }
   ],
   "source": [
    "lista[0].split(\"\\n\")[1]"
   ]
  },
  {
   "cell_type": "markdown",
   "metadata": {},
   "source": [
    "Cerchiamo di generalizzare il tutto con un ciclo for creando una lista di liste"
   ]
  },
  {
   "cell_type": "code",
   "execution_count": 69,
   "metadata": {},
   "outputs": [],
   "source": [
    "lista_dati = []\n",
    "for el in lista:\n",
    "    accessId = el.split(\"\\n\")[0].split(\" \")[0]\n",
    "    seq =  el.split(\"\\n\")[1]\n",
    "    lista_dati.append([accessId,  seq])"
   ]
  },
  {
   "cell_type": "code",
   "execution_count": 70,
   "metadata": {},
   "outputs": [
    {
     "data": {
      "text/plain": [
       "[['MG581699.1',\n",
       "  'TAAGCATATCAATAAGCGGAGGAAAAGAAACTAACAAGGATTCCCCCTAGTAACTGCGAGTGAAGCGGGA'],\n",
       " ['NR_119449.1',\n",
       "  'GTGAACCTGCGGAAGGATCATTATTGAATAATCTTGGTTGGTTGTAGCTGGCTCTTCGGAGTATGTGCAC']]"
      ]
     },
     "execution_count": 70,
     "metadata": {},
     "output_type": "execute_result"
    }
   ],
   "source": [
    "lista_dati"
   ]
  },
  {
   "cell_type": "markdown",
   "metadata": {},
   "source": [
    "Avrei potuto creare anche una lista di dizionari"
   ]
  },
  {
   "cell_type": "code",
   "execution_count": 71,
   "metadata": {},
   "outputs": [],
   "source": [
    "lista_dizionari = []\n",
    "for el in lista:\n",
    "    accessId = el.split(\"\\n\")[0].split(\" \")[0]\n",
    "    seq =  el.split(\"\\n\")[1]\n",
    "    lista_dizionari.append({\"accessId\":accessId,  \"seq:\":seq})"
   ]
  },
  {
   "cell_type": "code",
   "execution_count": 72,
   "metadata": {},
   "outputs": [
    {
     "data": {
      "text/plain": [
       "[{'accessId': 'MG581699.1',\n",
       "  'seq:': 'TAAGCATATCAATAAGCGGAGGAAAAGAAACTAACAAGGATTCCCCCTAGTAACTGCGAGTGAAGCGGGA'},\n",
       " {'accessId': 'NR_119449.1',\n",
       "  'seq:': 'GTGAACCTGCGGAAGGATCATTATTGAATAATCTTGGTTGGTTGTAGCTGGCTCTTCGGAGTATGTGCAC'}]"
      ]
     },
     "execution_count": 72,
     "metadata": {},
     "output_type": "execute_result"
    }
   ],
   "source": [
    "lista_dizionari"
   ]
  },
  {
   "cell_type": "markdown",
   "metadata": {},
   "source": [
    "Inseriamo i dati in un dataframe partendo dalla lista di liste"
   ]
  },
  {
   "cell_type": "code",
   "execution_count": 73,
   "metadata": {},
   "outputs": [
    {
     "data": {
      "text/html": [
       "<div>\n",
       "<style scoped>\n",
       "    .dataframe tbody tr th:only-of-type {\n",
       "        vertical-align: middle;\n",
       "    }\n",
       "\n",
       "    .dataframe tbody tr th {\n",
       "        vertical-align: top;\n",
       "    }\n",
       "\n",
       "    .dataframe thead th {\n",
       "        text-align: right;\n",
       "    }\n",
       "</style>\n",
       "<table border=\"1\" class=\"dataframe\">\n",
       "  <thead>\n",
       "    <tr style=\"text-align: right;\">\n",
       "      <th></th>\n",
       "      <th>accessid</th>\n",
       "      <th>sequenza</th>\n",
       "    </tr>\n",
       "  </thead>\n",
       "  <tbody>\n",
       "    <tr>\n",
       "      <th>0</th>\n",
       "      <td>MG581699.1</td>\n",
       "      <td>TAAGCATATCAATAAGCGGAGGAAAAGAAACTAACAAGGATTCCCC...</td>\n",
       "    </tr>\n",
       "    <tr>\n",
       "      <th>1</th>\n",
       "      <td>NR_119449.1</td>\n",
       "      <td>GTGAACCTGCGGAAGGATCATTATTGAATAATCTTGGTTGGTTGTA...</td>\n",
       "    </tr>\n",
       "  </tbody>\n",
       "</table>\n",
       "</div>"
      ],
      "text/plain": [
       "      accessid                                           sequenza\n",
       "0   MG581699.1  TAAGCATATCAATAAGCGGAGGAAAAGAAACTAACAAGGATTCCCC...\n",
       "1  NR_119449.1  GTGAACCTGCGGAAGGATCATTATTGAATAATCTTGGTTGGTTGTA..."
      ]
     },
     "execution_count": 73,
     "metadata": {},
     "output_type": "execute_result"
    }
   ],
   "source": [
    "df = pd.DataFrame(columns = ['accessid','sequenza'], data = lista_dati)\n",
    "df"
   ]
  },
  {
   "cell_type": "markdown",
   "metadata": {},
   "source": [
    "oppure dalla lista di dizionari"
   ]
  },
  {
   "cell_type": "code",
   "execution_count": 74,
   "metadata": {},
   "outputs": [
    {
     "data": {
      "text/html": [
       "<div>\n",
       "<style scoped>\n",
       "    .dataframe tbody tr th:only-of-type {\n",
       "        vertical-align: middle;\n",
       "    }\n",
       "\n",
       "    .dataframe tbody tr th {\n",
       "        vertical-align: top;\n",
       "    }\n",
       "\n",
       "    .dataframe thead th {\n",
       "        text-align: right;\n",
       "    }\n",
       "</style>\n",
       "<table border=\"1\" class=\"dataframe\">\n",
       "  <thead>\n",
       "    <tr style=\"text-align: right;\">\n",
       "      <th></th>\n",
       "      <th>accessId</th>\n",
       "      <th>seq:</th>\n",
       "    </tr>\n",
       "  </thead>\n",
       "  <tbody>\n",
       "    <tr>\n",
       "      <th>0</th>\n",
       "      <td>MG581699.1</td>\n",
       "      <td>TAAGCATATCAATAAGCGGAGGAAAAGAAACTAACAAGGATTCCCC...</td>\n",
       "    </tr>\n",
       "    <tr>\n",
       "      <th>1</th>\n",
       "      <td>NR_119449.1</td>\n",
       "      <td>GTGAACCTGCGGAAGGATCATTATTGAATAATCTTGGTTGGTTGTA...</td>\n",
       "    </tr>\n",
       "  </tbody>\n",
       "</table>\n",
       "</div>"
      ],
      "text/plain": [
       "      accessId                                               seq:\n",
       "0   MG581699.1  TAAGCATATCAATAAGCGGAGGAAAAGAAACTAACAAGGATTCCCC...\n",
       "1  NR_119449.1  GTGAACCTGCGGAAGGATCATTATTGAATAATCTTGGTTGGTTGTA..."
      ]
     },
     "execution_count": 74,
     "metadata": {},
     "output_type": "execute_result"
    }
   ],
   "source": [
    "df = pd.DataFrame(data = lista_dizionari)\n",
    "df"
   ]
  },
  {
   "cell_type": "code",
   "execution_count": 75,
   "metadata": {},
   "outputs": [
    {
     "name": "stdout",
     "output_type": "stream",
     "text": [
      "<class 'pandas.core.frame.DataFrame'>\n",
      "RangeIndex: 2 entries, 0 to 1\n",
      "Data columns (total 2 columns):\n",
      " #   Column    Non-Null Count  Dtype \n",
      "---  ------    --------------  ----- \n",
      " 0   accessId  2 non-null      object\n",
      " 1   seq:      2 non-null      object\n",
      "dtypes: object(2)\n",
      "memory usage: 164.0+ bytes\n"
     ]
    }
   ],
   "source": [
    "df.info()"
   ]
  },
  {
   "cell_type": "markdown",
   "metadata": {},
   "source": [
    "# Funzioni"
   ]
  },
  {
   "cell_type": "markdown",
   "metadata": {},
   "source": [
    "Condensiamo il codice precedente in una funzione:"
   ]
  },
  {
   "cell_type": "code",
   "execution_count": 76,
   "metadata": {},
   "outputs": [],
   "source": [
    "def acquisisci_file_fasta():\n",
    "    path = r\"C:\\Users\\ianto\\Desktop\\python\\file\"\n",
    "    \n",
    "    #acquisiamo il contenuto del file all'interno della variabile testo\n",
    "    with open(path + r\"\\file_input_fasta.txt\",\"r\") as f:\n",
    "        testo = f.read()\n",
    "    \n",
    "    #creiamo una lista a partire dalla variabile di tipo stringa ed eliminiamo il primo elemento\n",
    "    lista = testo.split(\">\")\n",
    "    lista.pop(0)\n",
    "    \n",
    "    #creiamo una lista vuota da popolare con gli elementi della lista precedente\n",
    "    lista_dati = []\n",
    "    for el in lista:\n",
    "        accessId = el.split(\"\\n\")[0].split(\" \")[0]\n",
    "        seq =  el.split(\"\\n\")[1]\n",
    "        lista_dati.append([accessId,  seq])\n",
    "    \n",
    "    #utilizziamo la lista appena creata per definire un DataFrame di Pandas\n",
    "    df = pd.DataFrame(columns = ['accessid','sequenza'], data = lista_dati)\n",
    "    return df"
   ]
  },
  {
   "cell_type": "markdown",
   "metadata": {},
   "source": [
    "Chiamiamo la funzione"
   ]
  },
  {
   "cell_type": "code",
   "execution_count": 77,
   "metadata": {},
   "outputs": [
    {
     "data": {
      "text/html": [
       "<div>\n",
       "<style scoped>\n",
       "    .dataframe tbody tr th:only-of-type {\n",
       "        vertical-align: middle;\n",
       "    }\n",
       "\n",
       "    .dataframe tbody tr th {\n",
       "        vertical-align: top;\n",
       "    }\n",
       "\n",
       "    .dataframe thead th {\n",
       "        text-align: right;\n",
       "    }\n",
       "</style>\n",
       "<table border=\"1\" class=\"dataframe\">\n",
       "  <thead>\n",
       "    <tr style=\"text-align: right;\">\n",
       "      <th></th>\n",
       "      <th>accessid</th>\n",
       "      <th>sequenza</th>\n",
       "    </tr>\n",
       "  </thead>\n",
       "  <tbody>\n",
       "    <tr>\n",
       "      <th>0</th>\n",
       "      <td>MG581699.1</td>\n",
       "      <td>TAAGCATATCAATAAGCGGAGGAAAAGAAACTAACAAGGATTCCCC...</td>\n",
       "    </tr>\n",
       "    <tr>\n",
       "      <th>1</th>\n",
       "      <td>NR_119449.1</td>\n",
       "      <td>GTGAACCTGCGGAAGGATCATTATTGAATAATCTTGGTTGGTTGTA...</td>\n",
       "    </tr>\n",
       "  </tbody>\n",
       "</table>\n",
       "</div>"
      ],
      "text/plain": [
       "      accessid                                           sequenza\n",
       "0   MG581699.1  TAAGCATATCAATAAGCGGAGGAAAAGAAACTAACAAGGATTCCCC...\n",
       "1  NR_119449.1  GTGAACCTGCGGAAGGATCATTATTGAATAATCTTGGTTGGTTGTA..."
      ]
     },
     "execution_count": 77,
     "metadata": {},
     "output_type": "execute_result"
    }
   ],
   "source": [
    "dataframe = acquisisci_file_fasta()\n",
    "dataframe"
   ]
  },
  {
   "cell_type": "markdown",
   "metadata": {},
   "source": [
    "Aggiungiamo i parametri di input"
   ]
  },
  {
   "cell_type": "code",
   "execution_count": 78,
   "metadata": {},
   "outputs": [],
   "source": [
    "def acquisisci_file_fasta(path, file ):\n",
    "    \n",
    "    #acquisiamo il contenuto del file all'interno della variabile testo\n",
    "    with open(os.path.join(path,file),\"r\") as f:\n",
    "        testo = f.read()\n",
    "        \n",
    "    #creiamo una lista a partire dalla variabile di tipo stringa ed eliminiamo il primo elemento\n",
    "    lista = testo.split(\">\")\n",
    "    lista.pop(0)\n",
    "    \n",
    "    #creiamo una lista vuota da popolare con gli elementi della lista precedente\n",
    "    lista_dati = []\n",
    "    for el in lista:\n",
    "        accessId = el.split(\"\\n\")[0].split(\" \")[0]\n",
    "        seq =  el.split(\"\\n\")[1]\n",
    "        lista_dati.append([accessId,  seq])\n",
    "        \n",
    "    #utilizziamo la lista appena creata per definire un DataFrame di Pandas\n",
    "    df = pd.DataFrame(columns = ['accessid','sequenza'], data = lista_dati)\n",
    "    \n",
    "    return df"
   ]
  },
  {
   "cell_type": "markdown",
   "metadata": {},
   "source": [
    "Chiamiamo la funzione"
   ]
  },
  {
   "cell_type": "code",
   "execution_count": 79,
   "metadata": {},
   "outputs": [
    {
     "data": {
      "text/html": [
       "<div>\n",
       "<style scoped>\n",
       "    .dataframe tbody tr th:only-of-type {\n",
       "        vertical-align: middle;\n",
       "    }\n",
       "\n",
       "    .dataframe tbody tr th {\n",
       "        vertical-align: top;\n",
       "    }\n",
       "\n",
       "    .dataframe thead th {\n",
       "        text-align: right;\n",
       "    }\n",
       "</style>\n",
       "<table border=\"1\" class=\"dataframe\">\n",
       "  <thead>\n",
       "    <tr style=\"text-align: right;\">\n",
       "      <th></th>\n",
       "      <th>accessid</th>\n",
       "      <th>sequenza</th>\n",
       "    </tr>\n",
       "  </thead>\n",
       "  <tbody>\n",
       "    <tr>\n",
       "      <th>0</th>\n",
       "      <td>MG581699.1</td>\n",
       "      <td>TAAGCATATCAATAAGCGGAGGAAAAGAAACTAACAAGGATTCCCC...</td>\n",
       "    </tr>\n",
       "    <tr>\n",
       "      <th>1</th>\n",
       "      <td>NR_119449.1</td>\n",
       "      <td>GTGAACCTGCGGAAGGATCATTATTGAATAATCTTGGTTGGTTGTA...</td>\n",
       "    </tr>\n",
       "  </tbody>\n",
       "</table>\n",
       "</div>"
      ],
      "text/plain": [
       "      accessid                                           sequenza\n",
       "0   MG581699.1  TAAGCATATCAATAAGCGGAGGAAAAGAAACTAACAAGGATTCCCC...\n",
       "1  NR_119449.1  GTGAACCTGCGGAAGGATCATTATTGAATAATCTTGGTTGGTTGTA..."
      ]
     },
     "execution_count": 79,
     "metadata": {},
     "output_type": "execute_result"
    }
   ],
   "source": [
    "dataframe = acquisisci_file_fasta(path = r\"C:\\Users\\ianto\\Desktop\\python\\file\", file = \"file_input_fasta.txt\")\n",
    "dataframe"
   ]
  },
  {
   "cell_type": "markdown",
   "metadata": {},
   "source": [
    "# Esercizio 2: importiamo un file excel contenente più fogli"
   ]
  },
  {
   "cell_type": "markdown",
   "metadata": {},
   "source": [
    "valorizziamo l'argomento sheet_name con None"
   ]
  },
  {
   "cell_type": "code",
   "execution_count": 80,
   "metadata": {},
   "outputs": [],
   "source": [
    "data = pd.read_excel(path+r\"\\Dati_su_piu_fogli.xlsx\",sheet_name=None)"
   ]
  },
  {
   "cell_type": "markdown",
   "metadata": {},
   "source": [
    "ottengo una variabile di tipo dizionario"
   ]
  },
  {
   "cell_type": "code",
   "execution_count": 81,
   "metadata": {},
   "outputs": [
    {
     "data": {
      "text/plain": [
       "dict"
      ]
     },
     "execution_count": 81,
     "metadata": {},
     "output_type": "execute_result"
    }
   ],
   "source": [
    "type(data)"
   ]
  },
  {
   "cell_type": "markdown",
   "metadata": {},
   "source": [
    "Un dizionario è un insieme di coppie chiave-valore. Visualizziamo l'elenco delle chiavi"
   ]
  },
  {
   "cell_type": "code",
   "execution_count": 82,
   "metadata": {},
   "outputs": [
    {
     "data": {
      "text/plain": [
       "dict_keys(['Fatture', 'Clienti', 'Fornitori'])"
      ]
     },
     "execution_count": 82,
     "metadata": {},
     "output_type": "execute_result"
    }
   ],
   "source": [
    "data.keys()"
   ]
  },
  {
   "cell_type": "markdown",
   "metadata": {},
   "source": [
    "Visualizziamo il valore della chiave Fatture"
   ]
  },
  {
   "cell_type": "code",
   "execution_count": 84,
   "metadata": {},
   "outputs": [
    {
     "data": {
      "text/html": [
       "<div>\n",
       "<style scoped>\n",
       "    .dataframe tbody tr th:only-of-type {\n",
       "        vertical-align: middle;\n",
       "    }\n",
       "\n",
       "    .dataframe tbody tr th {\n",
       "        vertical-align: top;\n",
       "    }\n",
       "\n",
       "    .dataframe thead th {\n",
       "        text-align: right;\n",
       "    }\n",
       "</style>\n",
       "<table border=\"1\" class=\"dataframe\">\n",
       "  <thead>\n",
       "    <tr style=\"text-align: right;\">\n",
       "      <th></th>\n",
       "      <th>IdFattura</th>\n",
       "      <th>Tipologia</th>\n",
       "      <th>Importo</th>\n",
       "      <th>Iva</th>\n",
       "      <th>IdCliente</th>\n",
       "      <th>IdFornitore</th>\n",
       "    </tr>\n",
       "  </thead>\n",
       "  <tbody>\n",
       "    <tr>\n",
       "      <th>0</th>\n",
       "      <td>1</td>\n",
       "      <td>A</td>\n",
       "      <td>40</td>\n",
       "      <td>20.0</td>\n",
       "      <td>1</td>\n",
       "      <td>1.0</td>\n",
       "    </tr>\n",
       "    <tr>\n",
       "      <th>1</th>\n",
       "      <td>2</td>\n",
       "      <td>V</td>\n",
       "      <td>32</td>\n",
       "      <td>20.0</td>\n",
       "      <td>2</td>\n",
       "      <td>1.0</td>\n",
       "    </tr>\n",
       "    <tr>\n",
       "      <th>2</th>\n",
       "      <td>3</td>\n",
       "      <td>A</td>\n",
       "      <td>45</td>\n",
       "      <td>20.0</td>\n",
       "      <td>3</td>\n",
       "      <td>1.0</td>\n",
       "    </tr>\n",
       "    <tr>\n",
       "      <th>3</th>\n",
       "      <td>4</td>\n",
       "      <td>V</td>\n",
       "      <td>64</td>\n",
       "      <td>20.0</td>\n",
       "      <td>3</td>\n",
       "      <td>1.0</td>\n",
       "    </tr>\n",
       "    <tr>\n",
       "      <th>4</th>\n",
       "      <td>5</td>\n",
       "      <td>A</td>\n",
       "      <td>12</td>\n",
       "      <td>20.0</td>\n",
       "      <td>5</td>\n",
       "      <td>1.0</td>\n",
       "    </tr>\n",
       "  </tbody>\n",
       "</table>\n",
       "</div>"
      ],
      "text/plain": [
       "   IdFattura Tipologia  Importo   Iva  IdCliente  IdFornitore\n",
       "0          1         A       40  20.0          1          1.0\n",
       "1          2         V       32  20.0          2          1.0\n",
       "2          3         A       45  20.0          3          1.0\n",
       "3          4         V       64  20.0          3          1.0\n",
       "4          5         A       12  20.0          5          1.0"
      ]
     },
     "execution_count": 84,
     "metadata": {},
     "output_type": "execute_result"
    }
   ],
   "source": [
    "data[\"Fatture\"].head(5)"
   ]
  },
  {
   "cell_type": "markdown",
   "metadata": {},
   "source": [
    "posso fare un ciclo sulle chiavi"
   ]
  },
  {
   "cell_type": "code",
   "execution_count": 85,
   "metadata": {},
   "outputs": [
    {
     "name": "stdout",
     "output_type": "stream",
     "text": [
      "il foglio Fatture ha 18 righe\n",
      "il foglio Clienti ha 39 righe\n",
      "il foglio Fornitori ha 5 righe\n"
     ]
    }
   ],
   "source": [
    "for chiave in data.keys():\n",
    "    numero_righe = len(data[chiave])\n",
    "    print(f'il foglio {chiave} ha {numero_righe} righe')"
   ]
  },
  {
   "cell_type": "markdown",
   "metadata": {},
   "source": [
    "Posso rimuovere chiavi da un dizionario"
   ]
  },
  {
   "cell_type": "code",
   "execution_count": 86,
   "metadata": {},
   "outputs": [
    {
     "data": {
      "text/plain": [
       "dict_keys(['Fatture', 'Clienti'])"
      ]
     },
     "execution_count": 86,
     "metadata": {},
     "output_type": "execute_result"
    }
   ],
   "source": [
    "del data[\"Fornitori\"]\n",
    "data.keys()"
   ]
  },
  {
   "cell_type": "markdown",
   "metadata": {},
   "source": [
    "Posso aggiungere o sovrascrivere una chiave"
   ]
  },
  {
   "cell_type": "code",
   "execution_count": 87,
   "metadata": {},
   "outputs": [
    {
     "data": {
      "text/plain": [
       "dict_keys(['Fatture', 'Clienti', 'Fornitori'])"
      ]
     },
     "execution_count": 87,
     "metadata": {},
     "output_type": "execute_result"
    }
   ],
   "source": [
    "data[\"Fornitori\"] = pd.read_excel(path+r\"\\Dati_su_piu_fogli.xlsx\",sheet_name=\"Fornitori\")\n",
    "data.keys()"
   ]
  },
  {
   "cell_type": "markdown",
   "metadata": {},
   "source": [
    "Se volessi creare io direttamente una variabile con un dizionario dovrei usare questa sintassi"
   ]
  },
  {
   "cell_type": "code",
   "execution_count": 88,
   "metadata": {},
   "outputs": [],
   "source": [
    "dizionario = {\"chiave 1\":\"primo valore\", \n",
    "              \"chiave 2\":[\"a\",3],\n",
    "              \"chiave 3\": 1}"
   ]
  },
  {
   "cell_type": "code",
   "execution_count": 89,
   "metadata": {},
   "outputs": [
    {
     "data": {
      "text/plain": [
       "{'chiave 1': 'primo valore', 'chiave 2': ['a', 3], 'chiave 3': 1}"
      ]
     },
     "execution_count": 89,
     "metadata": {},
     "output_type": "execute_result"
    }
   ],
   "source": [
    "dizionario"
   ]
  },
  {
   "cell_type": "markdown",
   "metadata": {},
   "source": [
    "# Api: application programming interface"
   ]
  },
  {
   "cell_type": "code",
   "execution_count": 90,
   "metadata": {},
   "outputs": [],
   "source": [
    "import requests"
   ]
  },
  {
   "cell_type": "markdown",
   "metadata": {},
   "source": [
    "Creiamo una variabile con l'url per la chiamata api"
   ]
  },
  {
   "cell_type": "code",
   "execution_count": 91,
   "metadata": {},
   "outputs": [],
   "source": [
    "url = \"https://api.github.com/repos/iantomasinicola/PortfolioDataAnalyst\""
   ]
  },
  {
   "cell_type": "markdown",
   "metadata": {},
   "source": [
    "Utilizziamo il metodo get della libreria requests"
   ]
  },
  {
   "cell_type": "code",
   "execution_count": 92,
   "metadata": {},
   "outputs": [],
   "source": [
    "res = requests.get(url)"
   ]
  },
  {
   "cell_type": "markdown",
   "metadata": {},
   "source": [
    "Controlliamo che lo status_code sia 200"
   ]
  },
  {
   "cell_type": "code",
   "execution_count": 93,
   "metadata": {},
   "outputs": [
    {
     "data": {
      "text/plain": [
       "200"
      ]
     },
     "execution_count": 93,
     "metadata": {},
     "output_type": "execute_result"
    }
   ],
   "source": [
    "res.status_code"
   ]
  },
  {
   "cell_type": "markdown",
   "metadata": {},
   "source": [
    "Visualizziamo il contenuto della risposta: i dati sono difficilmente lavorabili"
   ]
  },
  {
   "cell_type": "code",
   "execution_count": null,
   "metadata": {},
   "outputs": [],
   "source": [
    "res.content"
   ]
  },
  {
   "cell_type": "markdown",
   "metadata": {},
   "source": [
    "Anche in formato testo la situazione è difficilmente gestibile"
   ]
  },
  {
   "cell_type": "code",
   "execution_count": null,
   "metadata": {},
   "outputs": [],
   "source": [
    "res.text"
   ]
  },
  {
   "cell_type": "markdown",
   "metadata": {},
   "source": [
    "Invece convertendo i dati in json, posso utilizzare le funzionalità dei dizionari di Python!"
   ]
  },
  {
   "cell_type": "code",
   "execution_count": null,
   "metadata": {},
   "outputs": [],
   "source": [
    "res.json()"
   ]
  },
  {
   "cell_type": "code",
   "execution_count": 95,
   "metadata": {},
   "outputs": [],
   "source": [
    "json_res = res.json()"
   ]
  },
  {
   "cell_type": "code",
   "execution_count": 96,
   "metadata": {},
   "outputs": [
    {
     "data": {
      "text/plain": [
       "dict"
      ]
     },
     "execution_count": 96,
     "metadata": {},
     "output_type": "execute_result"
    }
   ],
   "source": [
    "type(json_res)"
   ]
  },
  {
   "cell_type": "markdown",
   "metadata": {},
   "source": [
    "Accedo a dei valori specifici del dizionario"
   ]
  },
  {
   "cell_type": "code",
   "execution_count": 97,
   "metadata": {},
   "outputs": [
    {
     "data": {
      "text/plain": [
       "'PortfolioDataAnalyst'"
      ]
     },
     "execution_count": 97,
     "metadata": {},
     "output_type": "execute_result"
    }
   ],
   "source": [
    "nome = json_res[\"name\"]\n",
    "nome"
   ]
  },
  {
   "cell_type": "code",
   "execution_count": 98,
   "metadata": {},
   "outputs": [
    {
     "data": {
      "text/plain": [
       "'https://github.com/iantomasinicola'"
      ]
     },
     "execution_count": 98,
     "metadata": {},
     "output_type": "execute_result"
    }
   ],
   "source": [
    "url_home = json_res[\"owner\"][\"html_url\"]\n",
    "url_home"
   ]
  },
  {
   "cell_type": "code",
   "execution_count": 99,
   "metadata": {},
   "outputs": [
    {
     "data": {
      "text/plain": [
       "['data-analysis', 'excel', 'python', 'sql']"
      ]
     },
     "execution_count": 99,
     "metadata": {},
     "output_type": "execute_result"
    }
   ],
   "source": [
    "topics = json_res[\"topics\"]\n",
    "topics"
   ]
  },
  {
   "cell_type": "code",
   "execution_count": 100,
   "metadata": {},
   "outputs": [
    {
     "data": {
      "text/plain": [
       "list"
      ]
     },
     "execution_count": 100,
     "metadata": {},
     "output_type": "execute_result"
    }
   ],
   "source": [
    "type(topics)"
   ]
  },
  {
   "cell_type": "code",
   "execution_count": 101,
   "metadata": {},
   "outputs": [
    {
     "name": "stdout",
     "output_type": "stream",
     "text": [
      "Progetto di Data analysis con Python, Microsoft Sql Server e Excel\n"
     ]
    }
   ],
   "source": [
    "print(json_res[\"description\"])"
   ]
  },
  {
   "cell_type": "markdown",
   "metadata": {},
   "source": [
    "Vediamo come possiamo creare un DataFrame"
   ]
  },
  {
   "cell_type": "code",
   "execution_count": 102,
   "metadata": {},
   "outputs": [],
   "source": [
    "nuovo_dict = {\"name\": json_res[\"name\"],\n",
    "              \"stato\": json_res[\"owner\"][\"html_url\"],\n",
    "              \"topics\":json_res[\"topics\"]}"
   ]
  },
  {
   "cell_type": "code",
   "execution_count": 103,
   "metadata": {},
   "outputs": [
    {
     "data": {
      "text/plain": [
       "{'name': 'PortfolioDataAnalyst',\n",
       " 'stato': 'https://github.com/iantomasinicola',\n",
       " 'topics': ['data-analysis', 'excel', 'python', 'sql']}"
      ]
     },
     "execution_count": 103,
     "metadata": {},
     "output_type": "execute_result"
    }
   ],
   "source": [
    "nuovo_dict"
   ]
  },
  {
   "cell_type": "code",
   "execution_count": 104,
   "metadata": {},
   "outputs": [
    {
     "data": {
      "text/html": [
       "<div>\n",
       "<style scoped>\n",
       "    .dataframe tbody tr th:only-of-type {\n",
       "        vertical-align: middle;\n",
       "    }\n",
       "\n",
       "    .dataframe tbody tr th {\n",
       "        vertical-align: top;\n",
       "    }\n",
       "\n",
       "    .dataframe thead th {\n",
       "        text-align: right;\n",
       "    }\n",
       "</style>\n",
       "<table border=\"1\" class=\"dataframe\">\n",
       "  <thead>\n",
       "    <tr style=\"text-align: right;\">\n",
       "      <th></th>\n",
       "      <th>name</th>\n",
       "      <th>stato</th>\n",
       "      <th>topics</th>\n",
       "    </tr>\n",
       "  </thead>\n",
       "  <tbody>\n",
       "    <tr>\n",
       "      <th>0</th>\n",
       "      <td>PortfolioDataAnalyst</td>\n",
       "      <td>https://github.com/iantomasinicola</td>\n",
       "      <td>data-analysis</td>\n",
       "    </tr>\n",
       "    <tr>\n",
       "      <th>1</th>\n",
       "      <td>PortfolioDataAnalyst</td>\n",
       "      <td>https://github.com/iantomasinicola</td>\n",
       "      <td>excel</td>\n",
       "    </tr>\n",
       "    <tr>\n",
       "      <th>2</th>\n",
       "      <td>PortfolioDataAnalyst</td>\n",
       "      <td>https://github.com/iantomasinicola</td>\n",
       "      <td>python</td>\n",
       "    </tr>\n",
       "    <tr>\n",
       "      <th>3</th>\n",
       "      <td>PortfolioDataAnalyst</td>\n",
       "      <td>https://github.com/iantomasinicola</td>\n",
       "      <td>sql</td>\n",
       "    </tr>\n",
       "  </tbody>\n",
       "</table>\n",
       "</div>"
      ],
      "text/plain": [
       "                   name                               stato         topics\n",
       "0  PortfolioDataAnalyst  https://github.com/iantomasinicola  data-analysis\n",
       "1  PortfolioDataAnalyst  https://github.com/iantomasinicola          excel\n",
       "2  PortfolioDataAnalyst  https://github.com/iantomasinicola         python\n",
       "3  PortfolioDataAnalyst  https://github.com/iantomasinicola            sql"
      ]
     },
     "execution_count": 104,
     "metadata": {},
     "output_type": "execute_result"
    }
   ],
   "source": [
    "pd.DataFrame(nuovo_dict)"
   ]
  },
  {
   "cell_type": "markdown",
   "metadata": {},
   "source": [
    "# Esercizio 3: fare degli esperimenti con l'url per ottenere una lista di repository"
   ]
  },
  {
   "cell_type": "code",
   "execution_count": 105,
   "metadata": {},
   "outputs": [],
   "source": [
    "url = \"https://api.github.com/users/iantomasinicola/repos\""
   ]
  },
  {
   "cell_type": "markdown",
   "metadata": {},
   "source": [
    "# API in libreria"
   ]
  },
  {
   "cell_type": "markdown",
   "metadata": {},
   "source": [
    "Sito web con informazioni di bioinformatica"
   ]
  },
  {
   "cell_type": "markdown",
   "metadata": {},
   "source": [
    "https://www.ncbi.nlm.nih.gov/genbank/"
   ]
  },
  {
   "cell_type": "markdown",
   "metadata": {},
   "source": [
    "La libreria biopython richiede di installare componenti di C++ troppo pesanti, guardiamo solo il codice."
   ]
  },
  {
   "cell_type": "code",
   "execution_count": null,
   "metadata": {},
   "outputs": [],
   "source": [
    "from Bio import Entrez\n",
    "from Bio import SeqIO"
   ]
  },
  {
   "cell_type": "code",
   "execution_count": null,
   "metadata": {},
   "outputs": [],
   "source": [
    "Entrez.email = \"nicola.iantomasi@yimp.it\""
   ]
  },
  {
   "cell_type": "markdown",
   "metadata": {},
   "source": [
    "Effettuiamo una chiamata get utilizzando direttamente il metodo efetch di Entrez."
   ]
  },
  {
   "cell_type": "code",
   "execution_count": null,
   "metadata": {},
   "outputs": [],
   "source": [
    "handle = Entrez.efetch(db=\"nucleotide\", id=\"AY851612\", rettype=\"gb\", retmode=\"text\")"
   ]
  },
  {
   "cell_type": "code",
   "execution_count": null,
   "metadata": {},
   "outputs": [],
   "source": [
    "type(handle)"
   ]
  },
  {
   "cell_type": "code",
   "execution_count": null,
   "metadata": {},
   "outputs": [],
   "source": [
    "handle.read()"
   ]
  },
  {
   "cell_type": "code",
   "execution_count": null,
   "metadata": {},
   "outputs": [],
   "source": [
    "handle.read()"
   ]
  },
  {
   "cell_type": "markdown",
   "metadata": {},
   "source": [
    "Utilizziamo nuovamente efetch, ma questa volta salviamo il risultato in una variabile"
   ]
  },
  {
   "cell_type": "code",
   "execution_count": null,
   "metadata": {},
   "outputs": [],
   "source": [
    "dati = handle.read()"
   ]
  },
  {
   "cell_type": "code",
   "execution_count": null,
   "metadata": {},
   "outputs": [],
   "source": [
    "type(dati)"
   ]
  },
  {
   "cell_type": "code",
   "execution_count": null,
   "metadata": {},
   "outputs": [],
   "source": [
    "dati[:300]"
   ]
  },
  {
   "cell_type": "markdown",
   "metadata": {},
   "source": [
    "biopython contiene anche dei moduli specifici per leggere e lavorare il risultato della chiamata api"
   ]
  },
  {
   "cell_type": "code",
   "execution_count": null,
   "metadata": {},
   "outputs": [],
   "source": [
    "handle = Entrez.efetch(db=\"nucleotide\", id=\"AY851612\", rettype=\"gb\", retmode=\"text\")\n",
    "dati = SeqIO.read(handle, 'genbank')"
   ]
  },
  {
   "cell_type": "code",
   "execution_count": null,
   "metadata": {},
   "outputs": [],
   "source": [
    "type(dati)"
   ]
  },
  {
   "cell_type": "code",
   "execution_count": null,
   "metadata": {},
   "outputs": [],
   "source": [
    "print(dati)"
   ]
  },
  {
   "cell_type": "markdown",
   "metadata": {},
   "source": [
    "Estraiamo la descrizione del nucleotide"
   ]
  },
  {
   "cell_type": "code",
   "execution_count": null,
   "metadata": {},
   "outputs": [],
   "source": [
    "dati.description"
   ]
  },
  {
   "cell_type": "markdown",
   "metadata": {},
   "source": [
    "# Lettura da SQL Server"
   ]
  },
  {
   "cell_type": "code",
   "execution_count": 106,
   "metadata": {},
   "outputs": [],
   "source": [
    "import getpass\n",
    "import pandas as pd\n",
    "from sqlalchemy import create_engine"
   ]
  },
  {
   "cell_type": "code",
   "execution_count": 107,
   "metadata": {},
   "outputs": [
    {
     "name": "stdin",
     "output_type": "stream",
     "text": [
      "Inserisci nome utente:  ········\n",
      "Inserisci la password:  ········\n"
     ]
    }
   ],
   "source": [
    "server_name = 'LAPTOP-UDP6N0UL\\\\SQLEXPRESS'\n",
    "database_name = 'CorsoSQL'\n",
    "utente = getpass.getpass(prompt='Inserisci nome utente: ')\n",
    "password = getpass.getpass(prompt='Inserisci la password: ')\n",
    "\n",
    "conn_str = f'mssql+pyodbc://{utente}:{password}@{server_name}/{database_name}?driver=ODBC+Driver+17+for+SQL+Server'"
   ]
  },
  {
   "cell_type": "code",
   "execution_count": 108,
   "metadata": {},
   "outputs": [],
   "source": [
    "engine = create_engine(conn_str)"
   ]
  },
  {
   "cell_type": "code",
   "execution_count": 110,
   "metadata": {},
   "outputs": [],
   "source": [
    "df = pd.read_sql( sql = \"SELECT * \\\n",
    "                    FROM Clienti \\\n",
    "                    WHERE RegioneResidenza = 'Lombardia'\", \n",
    "             con = engine)"
   ]
  },
  {
   "cell_type": "code",
   "execution_count": 111,
   "metadata": {},
   "outputs": [
    {
     "name": "stdout",
     "output_type": "stream",
     "text": [
      "<class 'pandas.core.frame.DataFrame'>\n",
      "RangeIndex: 3 entries, 0 to 2\n",
      "Data columns (total 5 columns):\n",
      " #   Column            Non-Null Count  Dtype \n",
      "---  ------            --------------  ----- \n",
      " 0   IdCliente         3 non-null      int64 \n",
      " 1   Nome              3 non-null      object\n",
      " 2   Cognome           3 non-null      object\n",
      " 3   DataNascita       3 non-null      object\n",
      " 4   RegioneResidenza  3 non-null      object\n",
      "dtypes: int64(1), object(4)\n",
      "memory usage: 252.0+ bytes\n"
     ]
    }
   ],
   "source": [
    "df.info()"
   ]
  },
  {
   "cell_type": "code",
   "execution_count": 112,
   "metadata": {},
   "outputs": [],
   "source": [
    "df = pd.read_sql( sql = \"SELECT * \\\n",
    "                    FROM Clienti \\\n",
    "                    WHERE RegioneResidenza = 'Lombardia'\", \n",
    "             con = engine,\n",
    "             parse_dates = \"DataNascita\")"
   ]
  },
  {
   "cell_type": "code",
   "execution_count": 113,
   "metadata": {},
   "outputs": [
    {
     "name": "stdout",
     "output_type": "stream",
     "text": [
      "<class 'pandas.core.frame.DataFrame'>\n",
      "RangeIndex: 3 entries, 0 to 2\n",
      "Data columns (total 5 columns):\n",
      " #   Column            Non-Null Count  Dtype         \n",
      "---  ------            --------------  -----         \n",
      " 0   IdCliente         3 non-null      int64         \n",
      " 1   Nome              3 non-null      object        \n",
      " 2   Cognome           3 non-null      object        \n",
      " 3   DataNascita       3 non-null      datetime64[ns]\n",
      " 4   RegioneResidenza  3 non-null      object        \n",
      "dtypes: datetime64[ns](1), int64(1), object(3)\n",
      "memory usage: 252.0+ bytes\n"
     ]
    }
   ],
   "source": [
    "df.info()"
   ]
  },
  {
   "cell_type": "markdown",
   "metadata": {},
   "source": [
    "Esempio di lettura del server e del database da un file di configurazione"
   ]
  },
  {
   "cell_type": "code",
   "execution_count": 114,
   "metadata": {},
   "outputs": [
    {
     "name": "stdin",
     "output_type": "stream",
     "text": [
      "Inserisci nome utente:  ········\n",
      "Inserisci la password:  ········\n"
     ]
    }
   ],
   "source": [
    "import json\n",
    "with open(r\"C:\\Users\\ianto\\Desktop\\python\\config.json\", 'r') as config_file:\n",
    "    config_data = json.load(config_file)\n",
    "\n",
    "server_name = config_data['server_name']\n",
    "database_name = config_data['database_name']\n",
    "\n",
    "utente = getpass.getpass(prompt='Inserisci nome utente: ')\n",
    "\n",
    "password = getpass.getpass(prompt='Inserisci la password: ')\n",
    "\n",
    "conn_str = f'mssql+pyodbc://{utente}:{password}@{server_name}/{database_name}?driver=ODBC+Driver+17+for+SQL+Server'\n",
    "\n",
    "engine = create_engine(conn_str)"
   ]
  },
  {
   "cell_type": "code",
   "execution_count": 115,
   "metadata": {},
   "outputs": [
    {
     "data": {
      "text/html": [
       "<div>\n",
       "<style scoped>\n",
       "    .dataframe tbody tr th:only-of-type {\n",
       "        vertical-align: middle;\n",
       "    }\n",
       "\n",
       "    .dataframe tbody tr th {\n",
       "        vertical-align: top;\n",
       "    }\n",
       "\n",
       "    .dataframe thead th {\n",
       "        text-align: right;\n",
       "    }\n",
       "</style>\n",
       "<table border=\"1\" class=\"dataframe\">\n",
       "  <thead>\n",
       "    <tr style=\"text-align: right;\">\n",
       "      <th></th>\n",
       "      <th>IdCliente</th>\n",
       "      <th>Nome</th>\n",
       "      <th>Cognome</th>\n",
       "      <th>DataNascita</th>\n",
       "      <th>RegioneResidenza</th>\n",
       "    </tr>\n",
       "  </thead>\n",
       "  <tbody>\n",
       "    <tr>\n",
       "      <th>0</th>\n",
       "      <td>6</td>\n",
       "      <td>Alberto</td>\n",
       "      <td>Marino</td>\n",
       "      <td>1980-02-03</td>\n",
       "      <td>Lombardia</td>\n",
       "    </tr>\n",
       "    <tr>\n",
       "      <th>1</th>\n",
       "      <td>7</td>\n",
       "      <td>Maria</td>\n",
       "      <td>Guarino</td>\n",
       "      <td>1980-01-08</td>\n",
       "      <td>Lombardia</td>\n",
       "    </tr>\n",
       "    <tr>\n",
       "      <th>2</th>\n",
       "      <td>8</td>\n",
       "      <td>Giacomo</td>\n",
       "      <td>Sacco</td>\n",
       "      <td>1980-10-11</td>\n",
       "      <td>Lombardia</td>\n",
       "    </tr>\n",
       "  </tbody>\n",
       "</table>\n",
       "</div>"
      ],
      "text/plain": [
       "   IdCliente     Nome  Cognome DataNascita RegioneResidenza\n",
       "0          6  Alberto   Marino  1980-02-03        Lombardia\n",
       "1          7    Maria  Guarino  1980-01-08        Lombardia\n",
       "2          8  Giacomo    Sacco  1980-10-11        Lombardia"
      ]
     },
     "execution_count": 115,
     "metadata": {},
     "output_type": "execute_result"
    }
   ],
   "source": [
    "pd.read_sql( sql = \"SELECT * \\\n",
    "                    FROM Clienti \\\n",
    "                    WHERE RegioneResidenza = 'Lombardia'\", \n",
    "             con = engine,\n",
    "             parse_dates = \"DataNascita\")"
   ]
  },
  {
   "cell_type": "markdown",
   "metadata": {},
   "source": [
    "# Lettura da MongoDB"
   ]
  },
  {
   "cell_type": "markdown",
   "metadata": {},
   "source": [
    "importiamo la libreria pymongo"
   ]
  },
  {
   "cell_type": "code",
   "execution_count": 116,
   "metadata": {},
   "outputs": [],
   "source": [
    "from pymongo import MongoClient"
   ]
  },
  {
   "cell_type": "markdown",
   "metadata": {},
   "source": [
    "Connettiamoci al database. In contesti non didattici dovremmo seguire le policy di sicurezza del reparto IT per connetterci al database"
   ]
  },
  {
   "cell_type": "code",
   "execution_count": 117,
   "metadata": {},
   "outputs": [],
   "source": [
    "client = MongoClient(\"mongodb://localhost:27017\")"
   ]
  },
  {
   "cell_type": "markdown",
   "metadata": {},
   "source": [
    "Posizioniamoci sul database corso_mongo_db"
   ]
  },
  {
   "cell_type": "code",
   "execution_count": 118,
   "metadata": {},
   "outputs": [],
   "source": [
    "db = client.corso_mongodb"
   ]
  },
  {
   "cell_type": "markdown",
   "metadata": {},
   "source": [
    "Proviamo ad eseguire una query"
   ]
  },
  {
   "cell_type": "code",
   "execution_count": 119,
   "metadata": {},
   "outputs": [],
   "source": [
    "result = db.fatture.find(\n",
    "                {\"importo\":{\"$gt\" : 25}},\n",
    "                {\"id_fattura\":1,\n",
    "                 \"data_fattura\":1,\n",
    "                 \"importo\":1,\n",
    "                 \"_id\":0}\n",
    "                );"
   ]
  },
  {
   "cell_type": "markdown",
   "metadata": {},
   "source": [
    "la variabile result è un cursore di pymongo"
   ]
  },
  {
   "cell_type": "code",
   "execution_count": 120,
   "metadata": {},
   "outputs": [
    {
     "data": {
      "text/plain": [
       "pymongo.synchronous.cursor.Cursor"
      ]
     },
     "execution_count": 120,
     "metadata": {},
     "output_type": "execute_result"
    }
   ],
   "source": [
    "type(result)"
   ]
  },
  {
   "cell_type": "markdown",
   "metadata": {},
   "source": [
    "applicando il metodo next possiamo lavorare il contenuto del cursore \"un documento alla volta\""
   ]
  },
  {
   "cell_type": "code",
   "execution_count": 121,
   "metadata": {},
   "outputs": [],
   "source": [
    "document = result.next()"
   ]
  },
  {
   "cell_type": "code",
   "execution_count": 122,
   "metadata": {},
   "outputs": [
    {
     "name": "stdout",
     "output_type": "stream",
     "text": [
      "{'id_fattura': 1, 'importo': Decimal128('120.12'), 'data_fattura': datetime.datetime(2018, 1, 1, 0, 0)}\n"
     ]
    }
   ],
   "source": [
    "print(document)"
   ]
  },
  {
   "cell_type": "code",
   "execution_count": 123,
   "metadata": {},
   "outputs": [
    {
     "data": {
      "text/plain": [
       "dict"
      ]
     },
     "execution_count": 123,
     "metadata": {},
     "output_type": "execute_result"
    }
   ],
   "source": [
    "type(document)"
   ]
  },
  {
   "cell_type": "markdown",
   "metadata": {},
   "source": [
    "posso utilizzare tutte le funzionalità dei dizionari di Python"
   ]
  },
  {
   "cell_type": "code",
   "execution_count": 124,
   "metadata": {},
   "outputs": [
    {
     "data": {
      "text/plain": [
       "1"
      ]
     },
     "execution_count": 124,
     "metadata": {},
     "output_type": "execute_result"
    }
   ],
   "source": [
    "document[\"id_fattura\"]"
   ]
  },
  {
   "cell_type": "markdown",
   "metadata": {},
   "source": [
    "eseguiamo più volte il metodo next, dopo aver scorso tutti gli elementi del cursore otteremo un errore"
   ]
  },
  {
   "cell_type": "code",
   "execution_count": 125,
   "metadata": {},
   "outputs": [
    {
     "data": {
      "text/plain": [
       "{'id_fattura': 2,\n",
       " 'importo': Decimal128('32.212'),\n",
       " 'data_fattura': datetime.datetime(2017, 3, 1, 0, 0)}"
      ]
     },
     "execution_count": 125,
     "metadata": {},
     "output_type": "execute_result"
    }
   ],
   "source": [
    "result.next()"
   ]
  },
  {
   "cell_type": "markdown",
   "metadata": {},
   "source": [
    "possiamo lavorare con i cursori anche tramite cicli for"
   ]
  },
  {
   "cell_type": "code",
   "execution_count": 126,
   "metadata": {},
   "outputs": [
    {
     "name": "stdout",
     "output_type": "stream",
     "text": [
      "{'id_fattura': 1, 'importo': Decimal128('120.12'), 'data_fattura': datetime.datetime(2018, 1, 1, 0, 0)}\n",
      "{'id_fattura': 9, 'importo': Decimal128('67'), 'data_fattura': datetime.datetime(2018, 1, 1, 0, 0)}\n",
      "{'id_fattura': 13, 'importo': Decimal128('87.23'), 'data_fattura': datetime.datetime(2016, 1, 3, 0, 0)}\n"
     ]
    }
   ],
   "source": [
    "result = db.fatture.find(\n",
    "                {\"importo\":{\"$gt\" : 65}},\n",
    "                {\"id_fattura\":1,\n",
    "                 \"data_fattura\":1,\n",
    "                 \"importo\":1,\n",
    "                 \"_id\":0}\n",
    "                );\n",
    "\n",
    "for document in result:\n",
    "    print(document)"
   ]
  },
  {
   "cell_type": "markdown",
   "metadata": {},
   "source": [
    "o salvando i dati in una lista"
   ]
  },
  {
   "cell_type": "code",
   "execution_count": 127,
   "metadata": {},
   "outputs": [],
   "source": [
    "result = db.fatture.find(\n",
    "                {\"importo\":{\"$gt\" : 65}},\n",
    "                {\"id_fattura\":1,\n",
    "                 \"data_fattura\":1,\n",
    "                 \"importo\":1,\n",
    "                 \"_id\":0}\n",
    "                );\n",
    "\n",
    "lista = list(result)"
   ]
  },
  {
   "cell_type": "code",
   "execution_count": 128,
   "metadata": {},
   "outputs": [
    {
     "data": {
      "text/plain": [
       "[{'id_fattura': 1,\n",
       "  'importo': Decimal128('120.12'),\n",
       "  'data_fattura': datetime.datetime(2018, 1, 1, 0, 0)},\n",
       " {'id_fattura': 9,\n",
       "  'importo': Decimal128('67'),\n",
       "  'data_fattura': datetime.datetime(2018, 1, 1, 0, 0)},\n",
       " {'id_fattura': 13,\n",
       "  'importo': Decimal128('87.23'),\n",
       "  'data_fattura': datetime.datetime(2016, 1, 3, 0, 0)}]"
      ]
     },
     "execution_count": 128,
     "metadata": {},
     "output_type": "execute_result"
    }
   ],
   "source": [
    "lista"
   ]
  },
  {
   "cell_type": "code",
   "execution_count": 129,
   "metadata": {},
   "outputs": [
    {
     "data": {
      "text/plain": [
       "{'id_fattura': 1,\n",
       " 'importo': Decimal128('120.12'),\n",
       " 'data_fattura': datetime.datetime(2018, 1, 1, 0, 0)}"
      ]
     },
     "execution_count": 129,
     "metadata": {},
     "output_type": "execute_result"
    }
   ],
   "source": [
    "lista[0]"
   ]
  },
  {
   "cell_type": "markdown",
   "metadata": {},
   "source": [
    "o salvando i dati in un DataFrame di pandas"
   ]
  },
  {
   "cell_type": "code",
   "execution_count": 130,
   "metadata": {},
   "outputs": [],
   "source": [
    "import pandas as pd\n",
    "result = db.fatture.find(\n",
    "                {\"importo\":{\"$gt\" : 65}},\n",
    "                {\"id_fattura\":1,\n",
    "                 \"data_fattura\":1,\n",
    "                 \"importo\":1,\n",
    "                 \"_id\":0}\n",
    "                );\n",
    "\n",
    "result_df = pd.DataFrame(result)"
   ]
  },
  {
   "cell_type": "code",
   "execution_count": 131,
   "metadata": {},
   "outputs": [
    {
     "data": {
      "text/html": [
       "<div>\n",
       "<style scoped>\n",
       "    .dataframe tbody tr th:only-of-type {\n",
       "        vertical-align: middle;\n",
       "    }\n",
       "\n",
       "    .dataframe tbody tr th {\n",
       "        vertical-align: top;\n",
       "    }\n",
       "\n",
       "    .dataframe thead th {\n",
       "        text-align: right;\n",
       "    }\n",
       "</style>\n",
       "<table border=\"1\" class=\"dataframe\">\n",
       "  <thead>\n",
       "    <tr style=\"text-align: right;\">\n",
       "      <th></th>\n",
       "      <th>id_fattura</th>\n",
       "      <th>importo</th>\n",
       "      <th>data_fattura</th>\n",
       "    </tr>\n",
       "  </thead>\n",
       "  <tbody>\n",
       "    <tr>\n",
       "      <th>0</th>\n",
       "      <td>1</td>\n",
       "      <td>120.12</td>\n",
       "      <td>2018-01-01</td>\n",
       "    </tr>\n",
       "    <tr>\n",
       "      <th>1</th>\n",
       "      <td>9</td>\n",
       "      <td>67</td>\n",
       "      <td>2018-01-01</td>\n",
       "    </tr>\n",
       "    <tr>\n",
       "      <th>2</th>\n",
       "      <td>13</td>\n",
       "      <td>87.23</td>\n",
       "      <td>2016-01-03</td>\n",
       "    </tr>\n",
       "  </tbody>\n",
       "</table>\n",
       "</div>"
      ],
      "text/plain": [
       "   id_fattura importo data_fattura\n",
       "0           1  120.12   2018-01-01\n",
       "1           9      67   2018-01-01\n",
       "2          13   87.23   2016-01-03"
      ]
     },
     "execution_count": 131,
     "metadata": {},
     "output_type": "execute_result"
    }
   ],
   "source": [
    "result_df"
   ]
  },
  {
   "cell_type": "markdown",
   "metadata": {},
   "source": [
    "posso eseguire anche aggregazioni"
   ]
  },
  {
   "cell_type": "code",
   "execution_count": 133,
   "metadata": {},
   "outputs": [
    {
     "name": "stdout",
     "output_type": "stream",
     "text": [
      "{'id_cliente': 1, 'fatture': [{'importo': Decimal128('120.12')}, {'importo': Decimal128('34')}, {'importo': Decimal128('21')}, {'importo': Decimal128('24')}]}\n",
      "{'id_cliente': 2, 'fatture': [{'importo': Decimal128('32.212')}, {'importo': Decimal128('21')}, {'importo': Decimal128('87.23')}]}\n",
      "{'id_cliente': 3, 'fatture': [{'importo': Decimal128('45')}, {'importo': Decimal128('64')}, {'importo': Decimal128('12')}, {'importo': Decimal128('67')}]}\n"
     ]
    }
   ],
   "source": [
    "result = db.clienti.aggregate(\n",
    "                      [\n",
    "                        {\"$lookup\":{\"from\"        : \"fatture\",\n",
    "                                    \"localField\"  : \"id_cliente\", \n",
    "                                    \"foreignField\": \"id_cliente\", \n",
    "                                    \"as\"          : \"fatture\"   }\n",
    "                        },\n",
    "                        {\"$project\":{\"id_cliente\":True,\n",
    "                                     \"fatture.importo\":True,\n",
    "                                     \"_id\":False}},\n",
    "                        {\"$limit\":3}\n",
    "                    ]);\n",
    "\n",
    "for document in result:\n",
    "    print(document)"
   ]
  },
  {
   "cell_type": "markdown",
   "metadata": {},
   "source": [
    "Attenzione alle date. Vediamo come diventa questo filtro\n",
    "{\n",
    "    \"data_spesa\": ISODate(\"2020-03-01T08:00:00.000Z\")\n",
    "}"
   ]
  },
  {
   "cell_type": "code",
   "execution_count": 134,
   "metadata": {},
   "outputs": [
    {
     "name": "stdout",
     "output_type": "stream",
     "text": [
      "{'_id': 1, 'nome_prodotto': 'Prodotto1', 'prezzo': Decimal128('10'), 'quantita': 2, 'data_spesa': datetime.datetime(2020, 3, 1, 8, 0)}\n"
     ]
    }
   ],
   "source": [
    "from datetime import datetime, tzinfo, timezone\n",
    "result = db.spese.find({'data_spesa': datetime(2020, 3, 1, 8, 0, 0 ,tzinfo=timezone.utc)});\n",
    "\n",
    "for document in result:\n",
    "    print(document)\n"
   ]
  },
  {
   "cell_type": "markdown",
   "metadata": {},
   "source": [
    "Possiamo indicare anche i microsecondi"
   ]
  },
  {
   "cell_type": "code",
   "execution_count": 135,
   "metadata": {},
   "outputs": [],
   "source": [
    "from datetime import datetime, tzinfo, timezone\n",
    "result = db.spese.find({'data_spesa': datetime(2020, 3, 1, 8, 0, 0, 100000,tzinfo=timezone.utc)});\n",
    "\n",
    "for document in result:\n",
    "    print(document)\n"
   ]
  },
  {
   "cell_type": "code",
   "execution_count": null,
   "metadata": {},
   "outputs": [],
   "source": []
  }
 ],
 "metadata": {
  "kernelspec": {
   "display_name": "Python 3 (ipykernel)",
   "language": "python",
   "name": "python3"
  },
  "language_info": {
   "codemirror_mode": {
    "name": "ipython",
    "version": 3
   },
   "file_extension": ".py",
   "mimetype": "text/x-python",
   "name": "python",
   "nbconvert_exporter": "python",
   "pygments_lexer": "ipython3",
   "version": "3.13.0"
  }
 },
 "nbformat": 4,
 "nbformat_minor": 4
}
